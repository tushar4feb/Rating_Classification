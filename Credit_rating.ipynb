{
  "nbformat": 4,
  "nbformat_minor": 0,
  "metadata": {
    "colab": {
      "name": "Rating_Prediction.ipynb",
      "provenance": [],
      "collapsed_sections": []
    },
    "kernelspec": {
      "name": "python3",
      "display_name": "Python 3"
    }
  },
  "cells": [
    {
      "cell_type": "code",
      "metadata": {
        "id": "_B3_YeHFsu-Q",
        "colab_type": "code",
        "outputId": "ceb86bfe-0d62-45ab-878a-97d9fa3f552b",
        "colab": {
          "base_uri": "https://localhost:8080/",
          "height": 1000
        }
      },
      "source": [
        "pip install -U pandas-profiling"
      ],
      "execution_count": 1,
      "outputs": [
        {
          "output_type": "stream",
          "text": [
            "Collecting pandas-profiling\n",
            "\u001b[?25l  Downloading https://files.pythonhosted.org/packages/2c/2f/aae19e2173c10a9bb7fee5f5cad35dbe53a393960fc91abc477dcc4661e8/pandas-profiling-2.3.0.tar.gz (127kB)\n",
            "\u001b[K     |████████████████████████████████| 133kB 3.1MB/s \n",
            "\u001b[?25hRequirement already satisfied, skipping upgrade: pandas>=0.19 in /usr/local/lib/python3.6/dist-packages (from pandas-profiling) (0.25.3)\n",
            "Requirement already satisfied, skipping upgrade: matplotlib>=1.4 in /usr/local/lib/python3.6/dist-packages (from pandas-profiling) (3.1.2)\n",
            "Requirement already satisfied, skipping upgrade: jinja2>=2.8 in /usr/local/lib/python3.6/dist-packages (from pandas-profiling) (2.10.3)\n",
            "Requirement already satisfied, skipping upgrade: missingno>=0.4.2 in /usr/local/lib/python3.6/dist-packages (from pandas-profiling) (0.4.2)\n",
            "Collecting htmlmin>=0.1.12\n",
            "  Downloading https://files.pythonhosted.org/packages/b3/e7/fcd59e12169de19f0131ff2812077f964c6b960e7c09804d30a7bf2ab461/htmlmin-0.1.12.tar.gz\n",
            "Collecting phik>=0.9.8\n",
            "\u001b[?25l  Downloading https://files.pythonhosted.org/packages/45/ad/24a16fa4ba612fb96a3c4bb115a5b9741483f53b66d3d3afd987f20fa227/phik-0.9.8-py3-none-any.whl (606kB)\n",
            "\u001b[K     |████████████████████████████████| 614kB 45.9MB/s \n",
            "\u001b[?25hCollecting confuse>=1.0.0\n",
            "  Downloading https://files.pythonhosted.org/packages/4c/6f/90e860cba937c174d8b3775729ccc6377eb91f52ad4eeb008e7252a3646d/confuse-1.0.0.tar.gz\n",
            "Requirement already satisfied, skipping upgrade: astropy in /usr/local/lib/python3.6/dist-packages (from pandas-profiling) (3.0.5)\n",
            "Requirement already satisfied, skipping upgrade: python-dateutil>=2.6.1 in /usr/local/lib/python3.6/dist-packages (from pandas>=0.19->pandas-profiling) (2.6.1)\n",
            "Requirement already satisfied, skipping upgrade: numpy>=1.13.3 in /usr/local/lib/python3.6/dist-packages (from pandas>=0.19->pandas-profiling) (1.17.4)\n",
            "Requirement already satisfied, skipping upgrade: pytz>=2017.2 in /usr/local/lib/python3.6/dist-packages (from pandas>=0.19->pandas-profiling) (2018.9)\n",
            "Requirement already satisfied, skipping upgrade: pyparsing!=2.0.4,!=2.1.2,!=2.1.6,>=2.0.1 in /usr/local/lib/python3.6/dist-packages (from matplotlib>=1.4->pandas-profiling) (2.4.5)\n",
            "Requirement already satisfied, skipping upgrade: kiwisolver>=1.0.1 in /usr/local/lib/python3.6/dist-packages (from matplotlib>=1.4->pandas-profiling) (1.1.0)\n",
            "Requirement already satisfied, skipping upgrade: cycler>=0.10 in /usr/local/lib/python3.6/dist-packages (from matplotlib>=1.4->pandas-profiling) (0.10.0)\n",
            "Requirement already satisfied, skipping upgrade: MarkupSafe>=0.23 in /usr/local/lib/python3.6/dist-packages (from jinja2>=2.8->pandas-profiling) (1.1.1)\n",
            "Requirement already satisfied, skipping upgrade: seaborn in /usr/local/lib/python3.6/dist-packages (from missingno>=0.4.2->pandas-profiling) (0.9.0)\n",
            "Requirement already satisfied, skipping upgrade: scipy in /usr/local/lib/python3.6/dist-packages (from missingno>=0.4.2->pandas-profiling) (1.3.3)\n",
            "Collecting pytest>=4.0.2\n",
            "\u001b[?25l  Downloading https://files.pythonhosted.org/packages/19/cf/711f1d887cb92c5155c9a1eb338f1b5d2411b50e4492a3b20e4a188a22b2/pytest-5.3.2-py3-none-any.whl (234kB)\n",
            "\u001b[K     |████████████████████████████████| 235kB 43.8MB/s \n",
            "\u001b[?25hRequirement already satisfied, skipping upgrade: numba>=0.38.1 in /usr/local/lib/python3.6/dist-packages (from phik>=0.9.8->pandas-profiling) (0.40.1)\n",
            "Requirement already satisfied, skipping upgrade: nbconvert>=5.3.1 in /usr/local/lib/python3.6/dist-packages (from phik>=0.9.8->pandas-profiling) (5.6.1)\n",
            "Collecting pytest-pylint>=0.13.0\n",
            "  Downloading https://files.pythonhosted.org/packages/64/dc/6f35f114844fb12e38d60c4f3d2441a55baff7043ad4e013777dff55746c/pytest_pylint-0.14.1-py3-none-any.whl\n",
            "Requirement already satisfied, skipping upgrade: jupyter-client>=5.2.3 in /usr/local/lib/python3.6/dist-packages (from phik>=0.9.8->pandas-profiling) (5.3.4)\n",
            "Requirement already satisfied, skipping upgrade: pyyaml in /usr/local/lib/python3.6/dist-packages (from confuse>=1.0.0->pandas-profiling) (3.13)\n",
            "Requirement already satisfied, skipping upgrade: six>=1.5 in /usr/local/lib/python3.6/dist-packages (from python-dateutil>=2.6.1->pandas>=0.19->pandas-profiling) (1.12.0)\n",
            "Requirement already satisfied, skipping upgrade: setuptools in /usr/local/lib/python3.6/dist-packages (from kiwisolver>=1.0.1->matplotlib>=1.4->pandas-profiling) (42.0.2)\n",
            "Requirement already satisfied, skipping upgrade: importlib-metadata>=0.12; python_version < \"3.8\" in /usr/local/lib/python3.6/dist-packages (from pytest>=4.0.2->phik>=0.9.8->pandas-profiling) (1.3.0)\n",
            "Requirement already satisfied, skipping upgrade: packaging in /usr/local/lib/python3.6/dist-packages (from pytest>=4.0.2->phik>=0.9.8->pandas-profiling) (19.2)\n",
            "Requirement already satisfied, skipping upgrade: wcwidth in /usr/local/lib/python3.6/dist-packages (from pytest>=4.0.2->phik>=0.9.8->pandas-profiling) (0.1.7)\n",
            "Requirement already satisfied, skipping upgrade: more-itertools>=4.0.0 in /usr/local/lib/python3.6/dist-packages (from pytest>=4.0.2->phik>=0.9.8->pandas-profiling) (8.0.2)\n",
            "Requirement already satisfied, skipping upgrade: attrs>=17.4.0 in /usr/local/lib/python3.6/dist-packages (from pytest>=4.0.2->phik>=0.9.8->pandas-profiling) (19.3.0)\n",
            "Collecting pluggy<1.0,>=0.12\n",
            "  Downloading https://files.pythonhosted.org/packages/a0/28/85c7aa31b80d150b772fbe4a229487bc6644da9ccb7e427dd8cc60cb8a62/pluggy-0.13.1-py2.py3-none-any.whl\n",
            "Requirement already satisfied, skipping upgrade: py>=1.5.0 in /usr/local/lib/python3.6/dist-packages (from pytest>=4.0.2->phik>=0.9.8->pandas-profiling) (1.8.0)\n",
            "Requirement already satisfied, skipping upgrade: llvmlite>=0.25.0dev0 in /usr/local/lib/python3.6/dist-packages (from numba>=0.38.1->phik>=0.9.8->pandas-profiling) (0.30.0)\n",
            "Requirement already satisfied, skipping upgrade: jupyter-core in /usr/local/lib/python3.6/dist-packages (from nbconvert>=5.3.1->phik>=0.9.8->pandas-profiling) (4.6.1)\n",
            "Requirement already satisfied, skipping upgrade: traitlets>=4.2 in /usr/local/lib/python3.6/dist-packages (from nbconvert>=5.3.1->phik>=0.9.8->pandas-profiling) (4.3.3)\n",
            "Requirement already satisfied, skipping upgrade: nbformat>=4.4 in /usr/local/lib/python3.6/dist-packages (from nbconvert>=5.3.1->phik>=0.9.8->pandas-profiling) (4.4.0)\n",
            "Requirement already satisfied, skipping upgrade: pandocfilters>=1.4.1 in /usr/local/lib/python3.6/dist-packages (from nbconvert>=5.3.1->phik>=0.9.8->pandas-profiling) (1.4.2)\n",
            "Requirement already satisfied, skipping upgrade: pygments in /usr/local/lib/python3.6/dist-packages (from nbconvert>=5.3.1->phik>=0.9.8->pandas-profiling) (2.1.3)\n",
            "Requirement already satisfied, skipping upgrade: testpath in /usr/local/lib/python3.6/dist-packages (from nbconvert>=5.3.1->phik>=0.9.8->pandas-profiling) (0.4.4)\n",
            "Requirement already satisfied, skipping upgrade: defusedxml in /usr/local/lib/python3.6/dist-packages (from nbconvert>=5.3.1->phik>=0.9.8->pandas-profiling) (0.6.0)\n",
            "Requirement already satisfied, skipping upgrade: bleach in /usr/local/lib/python3.6/dist-packages (from nbconvert>=5.3.1->phik>=0.9.8->pandas-profiling) (3.1.0)\n",
            "Requirement already satisfied, skipping upgrade: mistune<2,>=0.8.1 in /usr/local/lib/python3.6/dist-packages (from nbconvert>=5.3.1->phik>=0.9.8->pandas-profiling) (0.8.4)\n",
            "Requirement already satisfied, skipping upgrade: entrypoints>=0.2.2 in /usr/local/lib/python3.6/dist-packages (from nbconvert>=5.3.1->phik>=0.9.8->pandas-profiling) (0.3)\n",
            "Collecting pylint>=1.4.5\n",
            "\u001b[?25l  Downloading https://files.pythonhosted.org/packages/e9/59/43fc36c5ee316bb9aeb7cf5329cdbdca89e5749c34d5602753827c0aa2dc/pylint-2.4.4-py3-none-any.whl (302kB)\n",
            "\u001b[K     |████████████████████████████████| 307kB 52.8MB/s \n",
            "\u001b[?25hRequirement already satisfied, skipping upgrade: tornado>=4.1 in /usr/local/lib/python3.6/dist-packages (from jupyter-client>=5.2.3->phik>=0.9.8->pandas-profiling) (4.5.3)\n",
            "Requirement already satisfied, skipping upgrade: pyzmq>=13 in /usr/local/lib/python3.6/dist-packages (from jupyter-client>=5.2.3->phik>=0.9.8->pandas-profiling) (17.0.0)\n",
            "Requirement already satisfied, skipping upgrade: zipp>=0.5 in /usr/local/lib/python3.6/dist-packages (from importlib-metadata>=0.12; python_version < \"3.8\"->pytest>=4.0.2->phik>=0.9.8->pandas-profiling) (0.6.0)\n",
            "Requirement already satisfied, skipping upgrade: ipython-genutils in /usr/local/lib/python3.6/dist-packages (from traitlets>=4.2->nbconvert>=5.3.1->phik>=0.9.8->pandas-profiling) (0.2.0)\n",
            "Requirement already satisfied, skipping upgrade: decorator in /usr/local/lib/python3.6/dist-packages (from traitlets>=4.2->nbconvert>=5.3.1->phik>=0.9.8->pandas-profiling) (4.4.1)\n",
            "Requirement already satisfied, skipping upgrade: jsonschema!=2.5.0,>=2.4 in /usr/local/lib/python3.6/dist-packages (from nbformat>=4.4->nbconvert>=5.3.1->phik>=0.9.8->pandas-profiling) (2.6.0)\n",
            "Requirement already satisfied, skipping upgrade: webencodings in /usr/local/lib/python3.6/dist-packages (from bleach->nbconvert>=5.3.1->phik>=0.9.8->pandas-profiling) (0.5.1)\n",
            "Collecting isort<5,>=4.2.5\n",
            "\u001b[?25l  Downloading https://files.pythonhosted.org/packages/e5/b0/c121fd1fa3419ea9bfd55c7f9c4fedfec5143208d8c7ad3ce3db6c623c21/isort-4.3.21-py2.py3-none-any.whl (42kB)\n",
            "\u001b[K     |████████████████████████████████| 51kB 8.1MB/s \n",
            "\u001b[?25hCollecting mccabe<0.7,>=0.6\n",
            "  Downloading https://files.pythonhosted.org/packages/87/89/479dc97e18549e21354893e4ee4ef36db1d237534982482c3681ee6e7b57/mccabe-0.6.1-py2.py3-none-any.whl\n",
            "Collecting astroid<2.4,>=2.3.0\n",
            "\u001b[?25l  Downloading https://files.pythonhosted.org/packages/ad/ae/86734823047962e7b8c8529186a1ac4a7ca19aaf1aa0c7713c022ef593fd/astroid-2.3.3-py3-none-any.whl (205kB)\n",
            "\u001b[K     |████████████████████████████████| 215kB 53.1MB/s \n",
            "\u001b[?25hCollecting lazy-object-proxy==1.4.*\n",
            "\u001b[?25l  Downloading https://files.pythonhosted.org/packages/0b/dd/b1e3407e9e6913cf178e506cd0dee818e58694d9a5cd1984e3f6a8b9a10f/lazy_object_proxy-1.4.3-cp36-cp36m-manylinux1_x86_64.whl (55kB)\n",
            "\u001b[K     |████████████████████████████████| 61kB 9.3MB/s \n",
            "\u001b[?25hCollecting typed-ast<1.5,>=1.4.0; implementation_name == \"cpython\" and python_version < \"3.8\"\n",
            "\u001b[?25l  Downloading https://files.pythonhosted.org/packages/31/d3/9d1802c161626d0278bafb1ffb32f76b9d01e123881bbf9d91e8ccf28e18/typed_ast-1.4.0-cp36-cp36m-manylinux1_x86_64.whl (736kB)\n",
            "\u001b[K     |████████████████████████████████| 737kB 35.5MB/s \n",
            "\u001b[?25hRequirement already satisfied, skipping upgrade: wrapt==1.11.* in /usr/local/lib/python3.6/dist-packages (from astroid<2.4,>=2.3.0->pylint>=1.4.5->pytest-pylint>=0.13.0->phik>=0.9.8->pandas-profiling) (1.11.2)\n",
            "Building wheels for collected packages: pandas-profiling, htmlmin, confuse\n",
            "  Building wheel for pandas-profiling (setup.py) ... \u001b[?25l\u001b[?25hdone\n",
            "  Created wheel for pandas-profiling: filename=pandas_profiling-2.3.0-py2.py3-none-any.whl size=145035 sha256=d17b6025e5a36867bc3973c6afb58ccd6004e40dd3ae81818cc6276041f6fbc5\n",
            "  Stored in directory: /root/.cache/pip/wheels/ce/c7/f1/dbfef4848ebb048cb1d4a22d1ed0c62d8ff2523747235e19fe\n",
            "  Building wheel for htmlmin (setup.py) ... \u001b[?25l\u001b[?25hdone\n",
            "  Created wheel for htmlmin: filename=htmlmin-0.1.12-cp36-none-any.whl size=27084 sha256=95131a225dafdb4253f163a979ef7344d289d72b18bc40f335d086561d208556\n",
            "  Stored in directory: /root/.cache/pip/wheels/43/07/ac/7c5a9d708d65247ac1f94066cf1db075540b85716c30255459\n",
            "  Building wheel for confuse (setup.py) ... \u001b[?25l\u001b[?25hdone\n",
            "  Created wheel for confuse: filename=confuse-1.0.0-cp36-none-any.whl size=17486 sha256=f5a65dd2242bc2e59baaa24ed6de06fc2f3c4812790374d4f97ac82e84751733\n",
            "  Stored in directory: /root/.cache/pip/wheels/b0/b2/96/2074eee7dbf7b7df69d004c9b6ac4e32dad04fb7666cf943bd\n",
            "Successfully built pandas-profiling htmlmin confuse\n",
            "\u001b[31mERROR: datascience 0.10.6 has requirement folium==0.2.1, but you'll have folium 0.8.3 which is incompatible.\u001b[0m\n",
            "Installing collected packages: htmlmin, pluggy, pytest, isort, mccabe, lazy-object-proxy, typed-ast, astroid, pylint, pytest-pylint, phik, confuse, pandas-profiling\n",
            "  Found existing installation: pluggy 0.7.1\n",
            "    Uninstalling pluggy-0.7.1:\n",
            "      Successfully uninstalled pluggy-0.7.1\n",
            "  Found existing installation: pytest 3.6.4\n",
            "    Uninstalling pytest-3.6.4:\n",
            "      Successfully uninstalled pytest-3.6.4\n",
            "  Found existing installation: pandas-profiling 1.4.1\n",
            "    Uninstalling pandas-profiling-1.4.1:\n",
            "      Successfully uninstalled pandas-profiling-1.4.1\n",
            "Successfully installed astroid-2.3.3 confuse-1.0.0 htmlmin-0.1.12 isort-4.3.21 lazy-object-proxy-1.4.3 mccabe-0.6.1 pandas-profiling-2.3.0 phik-0.9.8 pluggy-0.13.1 pylint-2.4.4 pytest-5.3.2 pytest-pylint-0.14.1 typed-ast-1.4.0\n"
          ],
          "name": "stdout"
        }
      ]
    },
    {
      "cell_type": "code",
      "metadata": {
        "id": "XY250myvr9BW",
        "colab_type": "code",
        "outputId": "495c805e-1d35-4e2a-ddde-5a5508a9018a",
        "colab": {
          "base_uri": "https://localhost:8080/",
          "height": 71
        }
      },
      "source": [
        "import pandas as pd\n",
        "from imblearn.over_sampling import SMOTE\n"
      ],
      "execution_count": 2,
      "outputs": [
        {
          "output_type": "stream",
          "text": [
            "/usr/local/lib/python3.6/dist-packages/sklearn/externals/six.py:31: DeprecationWarning: The module is deprecated in version 0.21 and will be removed in version 0.23 since we've dropped support for Python 2.7. Please rely on the official version of six (https://pypi.org/project/six/).\n",
            "  \"(https://pypi.org/project/six/).\", DeprecationWarning)\n"
          ],
          "name": "stderr"
        }
      ]
    },
    {
      "cell_type": "code",
      "metadata": {
        "id": "y-VUc7EHsHnW",
        "colab_type": "code",
        "outputId": "ea8af44e-29f6-4ff0-bc15-7fa4c465b98a",
        "colab": {
          "resources": {
            "http://localhost:8080/nbextensions/google.colab/files.js": {
              "data": "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",
              "ok": true,
              "headers": [
                [
                  "content-type",
                  "application/javascript"
                ]
              ],
              "status": 200,
              "status_text": ""
            }
          },
          "base_uri": "https://localhost:8080/",
          "height": 74
        }
      },
      "source": [
        "from google.colab import files\n",
        "uploaded = files.upload()"
      ],
      "execution_count": 4,
      "outputs": [
        {
          "output_type": "display_data",
          "data": {
            "text/html": [
              "\n",
              "     <input type=\"file\" id=\"files-efeb2fcb-6dd6-42a1-b4ae-be4fb9498846\" name=\"files[]\" multiple disabled />\n",
              "     <output id=\"result-efeb2fcb-6dd6-42a1-b4ae-be4fb9498846\">\n",
              "      Upload widget is only available when the cell has been executed in the\n",
              "      current browser session. Please rerun this cell to enable.\n",
              "      </output>\n",
              "      <script src=\"/nbextensions/google.colab/files.js\"></script> "
            ],
            "text/plain": [
              "<IPython.core.display.HTML object>"
            ]
          },
          "metadata": {
            "tags": []
          }
        },
        {
          "output_type": "stream",
          "text": [
            "Saving pd v2.0.xlsx to pd v2.0.xlsx\n"
          ],
          "name": "stdout"
        }
      ]
    },
    {
      "cell_type": "code",
      "metadata": {
        "id": "ehLOjUWisMBc",
        "colab_type": "code",
        "colab": {}
      },
      "source": [
        "df = pd.read_excel('pd v2.0.xlsx')"
      ],
      "execution_count": 0,
      "outputs": []
    },
    {
      "cell_type": "code",
      "metadata": {
        "id": "bNbco2s7sc7_",
        "colab_type": "code",
        "outputId": "c64aceb0-9972-4141-c558-a39684bc6d94",
        "colab": {
          "base_uri": "https://localhost:8080/",
          "height": 34
        }
      },
      "source": [
        "df.shape"
      ],
      "execution_count": 6,
      "outputs": [
        {
          "output_type": "execute_result",
          "data": {
            "text/plain": [
              "(901, 20)"
            ]
          },
          "metadata": {
            "tags": []
          },
          "execution_count": 6
        }
      ]
    },
    {
      "cell_type": "code",
      "metadata": {
        "id": "dD_nk2CNtVGS",
        "colab_type": "code",
        "colab": {}
      },
      "source": [
        "pd_data = df.drop(labels = ['Sr. no.', 'Market Sector'], axis=1)"
      ],
      "execution_count": 0,
      "outputs": []
    },
    {
      "cell_type": "code",
      "metadata": {
        "id": "QY181gMXtWnw",
        "colab_type": "code",
        "colab": {}
      },
      "source": [
        "import pandas_profiling\n",
        "\n",
        "\n",
        "profile = pd_data.profile_report(title='Pandas Profiling Report')\n",
        "profile.to_file(output_file=\"data_pandas_profiling.html\")"
      ],
      "execution_count": 0,
      "outputs": []
    },
    {
      "cell_type": "code",
      "metadata": {
        "id": "ZtaaSCT5tz3i",
        "colab_type": "code",
        "outputId": "1cbd1afe-e6cb-448e-c72e-09b27d6085ea",
        "colab": {
          "base_uri": "https://localhost:8080/",
          "height": 221
        }
      },
      "source": [
        "pd_data.columns"
      ],
      "execution_count": 10,
      "outputs": [
        {
          "output_type": "execute_result",
          "data": {
            "text/plain": [
              "Index(['National_Long_Term_Rating', 'Revenue', 'Gross_Margin',\n",
              "       'Times_Interest_Earned', 'Capital_Employed',\n",
              "       'Profit_before_taxes_to_Employed_capital',\n",
              "       'Operating_Margin_to_Sales_and_other_income',\n",
              "       'Earnings_before_Interest_and_Taxes_to_Sales_and_other_income',\n",
              "       'Sales_and_other_income_to_Employed_Capital',\n",
              "       'Sales_and_other_income_to_Equity',\n",
              "       'Equity_and_Long_Term_Loans_to_Net_Fixed_Assets', 'DEBT_TO_EQUITY',\n",
              "       'Equity_to_Employed_Capital',\n",
              "       'Working_Capital_to_Short_Term_obligations', 'Immediate_Cash_Ratio',\n",
              "       'Debtors_Ratio', 'Stock_turnover_Ratio', 'Working_Capital'],\n",
              "      dtype='object')"
            ]
          },
          "metadata": {
            "tags": []
          },
          "execution_count": 10
        }
      ]
    },
    {
      "cell_type": "code",
      "metadata": {
        "id": "JdQsKYgvt6er",
        "colab_type": "code",
        "colab": {}
      },
      "source": [
        "y = pd_data['National_Long_Term_Rating']\n",
        "x = pd_data.drop(labels = 'National_Long_Term_Rating',axis=1)"
      ],
      "execution_count": 0,
      "outputs": []
    },
    {
      "cell_type": "code",
      "metadata": {
        "id": "mPXAniWet7Wz",
        "colab_type": "code",
        "colab": {}
      },
      "source": [
        "sm = SMOTE(k_neighbors=1)\n",
        "x, y = sm.fit_sample(x, y)"
      ],
      "execution_count": 0,
      "outputs": []
    },
    {
      "cell_type": "code",
      "metadata": {
        "id": "x97PXj50uBla",
        "colab_type": "code",
        "colab": {}
      },
      "source": [
        "#df1 = pd.DataFrame(x)\n",
        "#df2 = pd.DataFrame(y)\n",
        "#df2.shape\n",
        "df3 = pd.DataFrame(x)"
      ],
      "execution_count": 0,
      "outputs": []
    },
    {
      "cell_type": "code",
      "metadata": {
        "id": "YkgnhgcuIJYt",
        "colab_type": "code",
        "colab": {}
      },
      "source": [
        "import numpy as np\n",
        "import seaborn as sns\n",
        "import pandas as pd\n",
        "import matplotlib.pyplot as plt\n",
        "from sklearn.feature_selection import SelectKBest\n",
        "from sklearn.feature_selection import chi2\n",
        "from sklearn import preprocessing\n",
        "from sklearn.feature_selection import RFE\n",
        "from sklearn.linear_model import LogisticRegression\n",
        "from sklearn.ensemble import ExtraTreesClassifier\n",
        "from matplotlib import pyplot\n",
        "import math\n",
        "from sklearn.metrics import accuracy_score"
      ],
      "execution_count": 0,
      "outputs": []
    },
    {
      "cell_type": "code",
      "metadata": {
        "id": "XRAotCpdIV5J",
        "colab_type": "code",
        "colab": {}
      },
      "source": [
        "\n"
      ],
      "execution_count": 0,
      "outputs": []
    },
    {
      "cell_type": "markdown",
      "metadata": {
        "id": "NkTFl5nfDfz0",
        "colab_type": "text"
      },
      "source": [
        "Normalize Data"
      ]
    },
    {
      "cell_type": "code",
      "metadata": {
        "id": "PiStYBsNDezY",
        "colab_type": "code",
        "outputId": "61d7de7c-332c-416e-ba9a-d6fb085284cc",
        "colab": {
          "base_uri": "https://localhost:8080/",
          "height": 204
        }
      },
      "source": [
        "def normalize(column):\n",
        "    upper = column.max()\n",
        "    lower = column.min()\n",
        "    y = (column - lower)/(upper-lower)\n",
        "    return y\n",
        "\n",
        "df1=pd.DataFrame()\n",
        "for i in df3.columns[1:]:\n",
        "    df1[i] = normalize(df3[i])\n",
        "    df1.describe()\n",
        "df1.head()\n"
      ],
      "execution_count": 18,
      "outputs": [
        {
          "output_type": "execute_result",
          "data": {
            "text/html": [
              "<div>\n",
              "<style scoped>\n",
              "    .dataframe tbody tr th:only-of-type {\n",
              "        vertical-align: middle;\n",
              "    }\n",
              "\n",
              "    .dataframe tbody tr th {\n",
              "        vertical-align: top;\n",
              "    }\n",
              "\n",
              "    .dataframe thead th {\n",
              "        text-align: right;\n",
              "    }\n",
              "</style>\n",
              "<table border=\"1\" class=\"dataframe\">\n",
              "  <thead>\n",
              "    <tr style=\"text-align: right;\">\n",
              "      <th></th>\n",
              "      <th>1</th>\n",
              "      <th>2</th>\n",
              "      <th>3</th>\n",
              "      <th>4</th>\n",
              "      <th>5</th>\n",
              "      <th>6</th>\n",
              "      <th>7</th>\n",
              "      <th>8</th>\n",
              "      <th>9</th>\n",
              "      <th>10</th>\n",
              "      <th>11</th>\n",
              "      <th>12</th>\n",
              "      <th>13</th>\n",
              "      <th>14</th>\n",
              "      <th>15</th>\n",
              "      <th>16</th>\n",
              "    </tr>\n",
              "  </thead>\n",
              "  <tbody>\n",
              "    <tr>\n",
              "      <th>0</th>\n",
              "      <td>0.759994</td>\n",
              "      <td>0.002642</td>\n",
              "      <td>0.020677</td>\n",
              "      <td>0.654620</td>\n",
              "      <td>0.761864</td>\n",
              "      <td>0.526658</td>\n",
              "      <td>0.031499</td>\n",
              "      <td>0.136229</td>\n",
              "      <td>0.001119</td>\n",
              "      <td>0.293644</td>\n",
              "      <td>0.417564</td>\n",
              "      <td>0.508256</td>\n",
              "      <td>0.004802</td>\n",
              "      <td>0.024165</td>\n",
              "      <td>0.021753</td>\n",
              "      <td>0.651213</td>\n",
              "    </tr>\n",
              "    <tr>\n",
              "      <th>1</th>\n",
              "      <td>0.753330</td>\n",
              "      <td>0.002654</td>\n",
              "      <td>0.020391</td>\n",
              "      <td>0.595826</td>\n",
              "      <td>0.755142</td>\n",
              "      <td>0.521660</td>\n",
              "      <td>0.025842</td>\n",
              "      <td>0.121041</td>\n",
              "      <td>0.001187</td>\n",
              "      <td>0.289177</td>\n",
              "      <td>0.526041</td>\n",
              "      <td>0.504321</td>\n",
              "      <td>0.006464</td>\n",
              "      <td>0.144043</td>\n",
              "      <td>0.034034</td>\n",
              "      <td>0.650272</td>\n",
              "    </tr>\n",
              "    <tr>\n",
              "      <th>2</th>\n",
              "      <td>0.762916</td>\n",
              "      <td>0.002591</td>\n",
              "      <td>0.020564</td>\n",
              "      <td>0.631839</td>\n",
              "      <td>0.764752</td>\n",
              "      <td>0.528909</td>\n",
              "      <td>0.027133</td>\n",
              "      <td>0.123650</td>\n",
              "      <td>0.002134</td>\n",
              "      <td>0.290104</td>\n",
              "      <td>0.489375</td>\n",
              "      <td>0.512054</td>\n",
              "      <td>0.014766</td>\n",
              "      <td>0.241433</td>\n",
              "      <td>0.047154</td>\n",
              "      <td>0.654675</td>\n",
              "    </tr>\n",
              "    <tr>\n",
              "      <th>3</th>\n",
              "      <td>0.806760</td>\n",
              "      <td>0.002695</td>\n",
              "      <td>0.026532</td>\n",
              "      <td>0.641491</td>\n",
              "      <td>0.805989</td>\n",
              "      <td>0.563325</td>\n",
              "      <td>0.022618</td>\n",
              "      <td>0.117527</td>\n",
              "      <td>0.001253</td>\n",
              "      <td>0.288852</td>\n",
              "      <td>0.540555</td>\n",
              "      <td>0.518664</td>\n",
              "      <td>0.006351</td>\n",
              "      <td>0.360365</td>\n",
              "      <td>0.003374</td>\n",
              "      <td>0.681803</td>\n",
              "    </tr>\n",
              "    <tr>\n",
              "      <th>4</th>\n",
              "      <td>0.790499</td>\n",
              "      <td>0.005195</td>\n",
              "      <td>0.020871</td>\n",
              "      <td>0.697430</td>\n",
              "      <td>0.791820</td>\n",
              "      <td>0.548973</td>\n",
              "      <td>0.026247</td>\n",
              "      <td>0.123336</td>\n",
              "      <td>0.001238</td>\n",
              "      <td>0.288877</td>\n",
              "      <td>0.469327</td>\n",
              "      <td>0.506495</td>\n",
              "      <td>0.005152</td>\n",
              "      <td>0.301000</td>\n",
              "      <td>0.003445</td>\n",
              "      <td>0.640480</td>\n",
              "    </tr>\n",
              "  </tbody>\n",
              "</table>\n",
              "</div>"
            ],
            "text/plain": [
              "         1         2         3   ...        14        15        16\n",
              "0  0.759994  0.002642  0.020677  ...  0.024165  0.021753  0.651213\n",
              "1  0.753330  0.002654  0.020391  ...  0.144043  0.034034  0.650272\n",
              "2  0.762916  0.002591  0.020564  ...  0.241433  0.047154  0.654675\n",
              "3  0.806760  0.002695  0.026532  ...  0.360365  0.003374  0.681803\n",
              "4  0.790499  0.005195  0.020871  ...  0.301000  0.003445  0.640480\n",
              "\n",
              "[5 rows x 16 columns]"
            ]
          },
          "metadata": {
            "tags": []
          },
          "execution_count": 18
        }
      ]
    },
    {
      "cell_type": "code",
      "metadata": {
        "id": "b0v4Bd-aDokS",
        "colab_type": "code",
        "outputId": "67d22677-71b9-4c4a-b3f7-e0e14513cba1",
        "colab": {
          "base_uri": "https://localhost:8080/",
          "height": 204
        }
      },
      "source": [
        "def sigmoid(x):\n",
        "    e = np.exp(1)\n",
        "    y = 1/(1+e**(-x))\n",
        "    return y\n",
        "\n",
        "df2=pd.DataFrame()\n",
        "for i in df3.columns[1:]:\n",
        "    df2[i] = sigmoid(df3[i])\n",
        "    df2.describe()\n",
        "df2.head()"
      ],
      "execution_count": 16,
      "outputs": [
        {
          "output_type": "execute_result",
          "data": {
            "text/html": [
              "<div>\n",
              "<style scoped>\n",
              "    .dataframe tbody tr th:only-of-type {\n",
              "        vertical-align: middle;\n",
              "    }\n",
              "\n",
              "    .dataframe tbody tr th {\n",
              "        vertical-align: top;\n",
              "    }\n",
              "\n",
              "    .dataframe thead th {\n",
              "        text-align: right;\n",
              "    }\n",
              "</style>\n",
              "<table border=\"1\" class=\"dataframe\">\n",
              "  <thead>\n",
              "    <tr style=\"text-align: right;\">\n",
              "      <th></th>\n",
              "      <th>1</th>\n",
              "      <th>2</th>\n",
              "      <th>3</th>\n",
              "      <th>4</th>\n",
              "      <th>5</th>\n",
              "      <th>6</th>\n",
              "      <th>7</th>\n",
              "      <th>8</th>\n",
              "      <th>9</th>\n",
              "      <th>10</th>\n",
              "      <th>11</th>\n",
              "      <th>12</th>\n",
              "      <th>13</th>\n",
              "      <th>14</th>\n",
              "      <th>15</th>\n",
              "      <th>16</th>\n",
              "    </tr>\n",
              "  </thead>\n",
              "  <tbody>\n",
              "    <tr>\n",
              "      <th>0</th>\n",
              "      <td>0.982322</td>\n",
              "      <td>0.793384</td>\n",
              "      <td>1.0</td>\n",
              "      <td>1.000000</td>\n",
              "      <td>0.982322</td>\n",
              "      <td>0.982322</td>\n",
              "      <td>0.998521</td>\n",
              "      <td>0.999999</td>\n",
              "      <td>0.834650</td>\n",
              "      <td>0.740672</td>\n",
              "      <td>0.618223</td>\n",
              "      <td>0.473003</td>\n",
              "      <td>0.656390</td>\n",
              "      <td>1.0</td>\n",
              "      <td>1.000000</td>\n",
              "      <td>1.038830e-07</td>\n",
              "    </tr>\n",
              "    <tr>\n",
              "      <th>1</th>\n",
              "      <td>0.913707</td>\n",
              "      <td>0.802646</td>\n",
              "      <td>1.0</td>\n",
              "      <td>0.999492</td>\n",
              "      <td>0.912894</td>\n",
              "      <td>0.912894</td>\n",
              "      <td>0.961876</td>\n",
              "      <td>0.976923</td>\n",
              "      <td>0.920309</td>\n",
              "      <td>0.539995</td>\n",
              "      <td>0.703043</td>\n",
              "      <td>0.456684</td>\n",
              "      <td>0.704834</td>\n",
              "      <td>1.0</td>\n",
              "      <td>1.000000</td>\n",
              "      <td>1.601084e-08</td>\n",
              "    </tr>\n",
              "    <tr>\n",
              "      <th>2</th>\n",
              "      <td>0.991374</td>\n",
              "      <td>0.752211</td>\n",
              "      <td>1.0</td>\n",
              "      <td>1.000000</td>\n",
              "      <td>0.991289</td>\n",
              "      <td>0.991582</td>\n",
              "      <td>0.981622</td>\n",
              "      <td>0.995609</td>\n",
              "      <td>0.999999</td>\n",
              "      <td>0.585373</td>\n",
              "      <td>0.675561</td>\n",
              "      <td>0.488811</td>\n",
              "      <td>0.879255</td>\n",
              "      <td>1.0</td>\n",
              "      <td>1.000000</td>\n",
              "      <td>1.010292e-04</td>\n",
              "    </tr>\n",
              "    <tr>\n",
              "      <th>3</th>\n",
              "      <td>1.000000</td>\n",
              "      <td>0.830326</td>\n",
              "      <td>1.0</td>\n",
              "      <td>1.000000</td>\n",
              "      <td>1.000000</td>\n",
              "      <td>1.000000</td>\n",
              "      <td>0.794911</td>\n",
              "      <td>0.815245</td>\n",
              "      <td>0.962532</td>\n",
              "      <td>0.523910</td>\n",
              "      <td>0.713541</td>\n",
              "      <td>0.516354</td>\n",
              "      <td>0.701655</td>\n",
              "      <td>1.0</td>\n",
              "      <td>0.999977</td>\n",
              "      <td>1.000000e+00</td>\n",
              "    </tr>\n",
              "    <tr>\n",
              "      <th>4</th>\n",
              "      <td>0.999991</td>\n",
              "      <td>0.999998</td>\n",
              "      <td>1.0</td>\n",
              "      <td>1.000000</td>\n",
              "      <td>0.999989</td>\n",
              "      <td>0.999990</td>\n",
              "      <td>0.969631</td>\n",
              "      <td>0.994632</td>\n",
              "      <td>0.955149</td>\n",
              "      <td>0.525147</td>\n",
              "      <td>0.659991</td>\n",
              "      <td>0.465694</td>\n",
              "      <td>0.666888</td>\n",
              "      <td>1.0</td>\n",
              "      <td>0.999981</td>\n",
              "      <td>5.662959e-17</td>\n",
              "    </tr>\n",
              "  </tbody>\n",
              "</table>\n",
              "</div>"
            ],
            "text/plain": [
              "         1         2    3         4   ...        13   14        15            16\n",
              "0  0.982322  0.793384  1.0  1.000000  ...  0.656390  1.0  1.000000  1.038830e-07\n",
              "1  0.913707  0.802646  1.0  0.999492  ...  0.704834  1.0  1.000000  1.601084e-08\n",
              "2  0.991374  0.752211  1.0  1.000000  ...  0.879255  1.0  1.000000  1.010292e-04\n",
              "3  1.000000  0.830326  1.0  1.000000  ...  0.701655  1.0  0.999977  1.000000e+00\n",
              "4  0.999991  0.999998  1.0  1.000000  ...  0.666888  1.0  0.999981  5.662959e-17\n",
              "\n",
              "[5 rows x 16 columns]"
            ]
          },
          "metadata": {
            "tags": []
          },
          "execution_count": 16
        }
      ]
    },
    {
      "cell_type": "code",
      "metadata": {
        "id": "BpK6wJkYDuvV",
        "colab_type": "code",
        "outputId": "f266b150-4c08-4b7a-e6c1-3e3532251bb6",
        "colab": {
          "base_uri": "https://localhost:8080/",
          "height": 204
        }
      },
      "source": [
        "import numpy as np\n",
        "df4=pd.DataFrame()\n",
        "for i in df1.columns[1:]:\n",
        "    df4[i] = np.log(df1[i]+1)\n",
        "    \n",
        "# print(df3.describe())\n",
        "df4.head()"
      ],
      "execution_count": 19,
      "outputs": [
        {
          "output_type": "execute_result",
          "data": {
            "text/html": [
              "<div>\n",
              "<style scoped>\n",
              "    .dataframe tbody tr th:only-of-type {\n",
              "        vertical-align: middle;\n",
              "    }\n",
              "\n",
              "    .dataframe tbody tr th {\n",
              "        vertical-align: top;\n",
              "    }\n",
              "\n",
              "    .dataframe thead th {\n",
              "        text-align: right;\n",
              "    }\n",
              "</style>\n",
              "<table border=\"1\" class=\"dataframe\">\n",
              "  <thead>\n",
              "    <tr style=\"text-align: right;\">\n",
              "      <th></th>\n",
              "      <th>2</th>\n",
              "      <th>3</th>\n",
              "      <th>4</th>\n",
              "      <th>5</th>\n",
              "      <th>6</th>\n",
              "      <th>7</th>\n",
              "      <th>8</th>\n",
              "      <th>9</th>\n",
              "      <th>10</th>\n",
              "      <th>11</th>\n",
              "      <th>12</th>\n",
              "      <th>13</th>\n",
              "      <th>14</th>\n",
              "      <th>15</th>\n",
              "      <th>16</th>\n",
              "    </tr>\n",
              "  </thead>\n",
              "  <tbody>\n",
              "    <tr>\n",
              "      <th>0</th>\n",
              "      <td>0.002638</td>\n",
              "      <td>0.020467</td>\n",
              "      <td>0.503571</td>\n",
              "      <td>0.566372</td>\n",
              "      <td>0.423081</td>\n",
              "      <td>0.031013</td>\n",
              "      <td>0.127714</td>\n",
              "      <td>0.001118</td>\n",
              "      <td>0.257463</td>\n",
              "      <td>0.348940</td>\n",
              "      <td>0.410954</td>\n",
              "      <td>0.004791</td>\n",
              "      <td>0.023877</td>\n",
              "      <td>0.021520</td>\n",
              "      <td>0.501510</td>\n",
              "    </tr>\n",
              "    <tr>\n",
              "      <th>1</th>\n",
              "      <td>0.002651</td>\n",
              "      <td>0.020186</td>\n",
              "      <td>0.467391</td>\n",
              "      <td>0.562550</td>\n",
              "      <td>0.419802</td>\n",
              "      <td>0.025514</td>\n",
              "      <td>0.114258</td>\n",
              "      <td>0.001186</td>\n",
              "      <td>0.254004</td>\n",
              "      <td>0.422677</td>\n",
              "      <td>0.408342</td>\n",
              "      <td>0.006443</td>\n",
              "      <td>0.134568</td>\n",
              "      <td>0.033468</td>\n",
              "      <td>0.500940</td>\n",
              "    </tr>\n",
              "    <tr>\n",
              "      <th>2</th>\n",
              "      <td>0.002587</td>\n",
              "      <td>0.020356</td>\n",
              "      <td>0.489708</td>\n",
              "      <td>0.568010</td>\n",
              "      <td>0.424555</td>\n",
              "      <td>0.026772</td>\n",
              "      <td>0.116582</td>\n",
              "      <td>0.002132</td>\n",
              "      <td>0.254723</td>\n",
              "      <td>0.398357</td>\n",
              "      <td>0.413469</td>\n",
              "      <td>0.014658</td>\n",
              "      <td>0.216266</td>\n",
              "      <td>0.046076</td>\n",
              "      <td>0.503605</td>\n",
              "    </tr>\n",
              "    <tr>\n",
              "      <th>3</th>\n",
              "      <td>0.002691</td>\n",
              "      <td>0.026186</td>\n",
              "      <td>0.495605</td>\n",
              "      <td>0.591109</td>\n",
              "      <td>0.446815</td>\n",
              "      <td>0.022366</td>\n",
              "      <td>0.111118</td>\n",
              "      <td>0.001252</td>\n",
              "      <td>0.253752</td>\n",
              "      <td>0.432143</td>\n",
              "      <td>0.417831</td>\n",
              "      <td>0.006331</td>\n",
              "      <td>0.307753</td>\n",
              "      <td>0.003369</td>\n",
              "      <td>0.519866</td>\n",
              "    </tr>\n",
              "    <tr>\n",
              "      <th>4</th>\n",
              "      <td>0.005182</td>\n",
              "      <td>0.020657</td>\n",
              "      <td>0.529116</td>\n",
              "      <td>0.583232</td>\n",
              "      <td>0.437592</td>\n",
              "      <td>0.025909</td>\n",
              "      <td>0.116303</td>\n",
              "      <td>0.001237</td>\n",
              "      <td>0.253771</td>\n",
              "      <td>0.384804</td>\n",
              "      <td>0.409786</td>\n",
              "      <td>0.005138</td>\n",
              "      <td>0.263133</td>\n",
              "      <td>0.003439</td>\n",
              "      <td>0.494989</td>\n",
              "    </tr>\n",
              "  </tbody>\n",
              "</table>\n",
              "</div>"
            ],
            "text/plain": [
              "         2         3         4   ...        14        15        16\n",
              "0  0.002638  0.020467  0.503571  ...  0.023877  0.021520  0.501510\n",
              "1  0.002651  0.020186  0.467391  ...  0.134568  0.033468  0.500940\n",
              "2  0.002587  0.020356  0.489708  ...  0.216266  0.046076  0.503605\n",
              "3  0.002691  0.026186  0.495605  ...  0.307753  0.003369  0.519866\n",
              "4  0.005182  0.020657  0.529116  ...  0.263133  0.003439  0.494989\n",
              "\n",
              "[5 rows x 15 columns]"
            ]
          },
          "metadata": {
            "tags": []
          },
          "execution_count": 19
        }
      ]
    },
    {
      "cell_type": "code",
      "metadata": {
        "id": "Wju3ZhyWFwE5",
        "colab_type": "code",
        "colab": {}
      },
      "source": [
        "#pd_data.columns\n",
        "class_names = ['Revenue', 'Operating_Profit', 'Interest_Expense',\n",
        "       'Net_Income', 'Cash_generated_by_operations', 'Working_Capital_(+/-)',\n",
        "       'Opening_debt', 'Closing_debt', 'Cash_and_Marketable_Securities',\n",
        "       'Accounts_Receivable/Trade_Debtors', 'Inventory',\n",
        "       'Other_Current_Assets', 'Property, Plant_&_Equipment',\n",
        "       'Intangible_Assets', 'Other_Non-current_Assets',\n",
        "       'Short-term_Debt(inc.CPLTD)', 'Accounts_Payable/Trade_Creditors',\n",
        "       'Other_Short-term_Liabilities', 'Long-term_Unsecured_Debt',\n",
        "       'Long-term_Secured_Debt', 'Provisions', 'Equity_Capital_&_Reserves']\n",
        "#matrix = confusion_matrix(y_test, pred)\n",
        "#df5 = pd.DataFrame(df4, columns=class_names)\n",
        "#df5.head()"
      ],
      "execution_count": 0,
      "outputs": []
    },
    {
      "cell_type": "code",
      "metadata": {
        "id": "-W05wz2RDyLI",
        "colab_type": "code",
        "colab": {}
      },
      "source": [
        "# pandas profilig after log transformation\n",
        "# import pandas_profiling\n",
        "\n",
        "\n",
        "# profile = df3.profile_report(title='Pandas Profiling Report')\n",
        "# profile.to_file(output_file=\"data_pandas_profiling.html\")"
      ],
      "execution_count": 0,
      "outputs": []
    },
    {
      "cell_type": "code",
      "metadata": {
        "id": "v9sSdukiuHCs",
        "colab_type": "code",
        "colab": {}
      },
      "source": [
        "### Split data into training and validation data\n",
        "from sklearn.metrics import confusion_matrix\n",
        "### Split train data into train and dev data\n",
        "from sklearn.model_selection import train_test_split\n",
        "x_train,x_test,y_train,y_test = train_test_split(df4,y,test_size=0.2,random_state = 23)"
      ],
      "execution_count": 0,
      "outputs": []
    },
    {
      "cell_type": "code",
      "metadata": {
        "id": "DrR4BwMyuJEk",
        "colab_type": "code",
        "colab": {}
      },
      "source": [
        "#from sklearn.metrics import classification_report\n",
        "#from sklearn.preprocessing import MinMaxScaler\n",
        "#min_max_mod = MinMaxScaler()\n",
        "#min_max_mod.fit(x_train)\n",
        "#x_train_min_max = min_max_mod.transform(x_train)\n",
        "#x_test_min_max = min_max_mod.transform(x_test)\n",
        "\n",
        "#print(x_train_min_max)"
      ],
      "execution_count": 0,
      "outputs": []
    },
    {
      "cell_type": "code",
      "metadata": {
        "id": "v3CHjQhJhsUH",
        "colab_type": "code",
        "colab": {}
      },
      "source": [
        "#x_train_1 = pd.DataFrame(x_train)\n",
        "#x_train_1.head()\n"
      ],
      "execution_count": 0,
      "outputs": []
    },
    {
      "cell_type": "markdown",
      "metadata": {
        "id": "im3ocvMiuR9r",
        "colab_type": "text"
      },
      "source": [
        "\n"
      ]
    },
    {
      "cell_type": "code",
      "metadata": {
        "colab_type": "code",
        "id": "-BNGe7eOF5NO",
        "colab": {}
      },
      "source": [
        "#x_train.info()"
      ],
      "execution_count": 0,
      "outputs": []
    },
    {
      "cell_type": "code",
      "metadata": {
        "id": "_eWuw53hug-j",
        "colab_type": "code",
        "colab": {}
      },
      "source": [
        "import numpy as np\n",
        "import seaborn as sns\n",
        "import pandas as pd\n",
        "import matplotlib.pyplot as plt\n",
        "from sklearn.feature_selection import SelectKBest\n",
        "from sklearn.feature_selection import chi2\n",
        "from sklearn import preprocessing\n",
        "from sklearn.feature_selection import RFE\n",
        "from sklearn.linear_model import LogisticRegression\n",
        "from sklearn.ensemble import ExtraTreesClassifier\n",
        "from matplotlib import pyplot\n",
        "import math\n",
        "from sklearn.metrics import accuracy_score\n",
        "\n"
      ],
      "execution_count": 0,
      "outputs": []
    },
    {
      "cell_type": "code",
      "metadata": {
        "id": "awWXFrJ5uoAG",
        "colab_type": "code",
        "outputId": "61c5ecc1-9456-415f-cd31-4712560fa5ec",
        "colab": {
          "base_uri": "https://localhost:8080/",
          "height": 102
        }
      },
      "source": [
        "#from sklearn.multiclass import OneVsRestClassifier\n",
        "model1 = LogisticRegression(random_state=None, solver='lbfgs', max_iter = 1000,\n",
        "                         multi_class='multinomial', penalty='l2')\n",
        "model1.fit(x_train, y_train)"
      ],
      "execution_count": 27,
      "outputs": [
        {
          "output_type": "execute_result",
          "data": {
            "text/plain": [
              "LogisticRegression(C=1.0, class_weight=None, dual=False, fit_intercept=True,\n",
              "                   intercept_scaling=1, l1_ratio=None, max_iter=1000,\n",
              "                   multi_class='multinomial', n_jobs=None, penalty='l2',\n",
              "                   random_state=None, solver='lbfgs', tol=0.0001, verbose=0,\n",
              "                   warm_start=False)"
            ]
          },
          "metadata": {
            "tags": []
          },
          "execution_count": 27
        }
      ]
    },
    {
      "cell_type": "code",
      "metadata": {
        "id": "wTbiBLDMusuj",
        "colab_type": "code",
        "outputId": "ae117235-bfb4-461d-f596-e07de277df2a",
        "colab": {
          "base_uri": "https://localhost:8080/",
          "height": 34
        }
      },
      "source": [
        "y_predict = model1.predict(x_train)\n",
        "print(model1.score(x_train, y_train))"
      ],
      "execution_count": 28,
      "outputs": [
        {
          "output_type": "stream",
          "text": [
            "0.24074074074074073\n"
          ],
          "name": "stdout"
        }
      ]
    },
    {
      "cell_type": "code",
      "metadata": {
        "id": "ds-ji5RawZBn",
        "colab_type": "code",
        "outputId": "cacee7bc-cd88-4585-b3d6-943c85d4827f",
        "colab": {
          "base_uri": "https://localhost:8080/",
          "height": 34
        }
      },
      "source": [
        "y_test_predict = model1.predict(x_test)\n",
        "print(model1.score(x_test, y_test))"
      ],
      "execution_count": 29,
      "outputs": [
        {
          "output_type": "stream",
          "text": [
            "0.2275132275132275\n"
          ],
          "name": "stdout"
        }
      ]
    },
    {
      "cell_type": "code",
      "metadata": {
        "id": "NpzNo1aROmxJ",
        "colab_type": "code",
        "outputId": "173694cc-d9ce-4e3b-8ed2-074cb2ab1c28",
        "colab": {
          "base_uri": "https://localhost:8080/",
          "height": 34
        }
      },
      "source": [
        "accuracy_score(y_test,y_test_predict)"
      ],
      "execution_count": 30,
      "outputs": [
        {
          "output_type": "execute_result",
          "data": {
            "text/plain": [
              "0.2275132275132275"
            ]
          },
          "metadata": {
            "tags": []
          },
          "execution_count": 30
        }
      ]
    },
    {
      "cell_type": "code",
      "metadata": {
        "id": "ns_UFenGP8lI",
        "colab_type": "code",
        "outputId": "6346e511-202d-4854-942a-e3e0db4004b6",
        "colab": {
          "base_uri": "https://localhost:8080/",
          "height": 221
        }
      },
      "source": [
        "#@title \n",
        "# Predicting the Test set results\n",
        "y_logit_pred = model1.predict(x_test)\n",
        "\n",
        "# Making the Confusion Matrix\n",
        "mat=pd.crosstab(y_test, y_logit_pred, rownames=['Actual PD rating'], colnames=['Predicted PD rating'])\n",
        "print(mat)"
      ],
      "execution_count": 32,
      "outputs": [
        {
          "output_type": "stream",
          "text": [
            "Predicted PD rating  B  B+  B-  BB  BB-  BBB  BBB+  BBB-  D\n",
            "Actual PD rating                                           \n",
            "B                    8   2   5   0    2    1    12     0  7\n",
            "B+                   8   2   9   0    8    0     6     0  7\n",
            "B-                   1   0  21   0    4    0    11     0  5\n",
            "BB                   4   1   4   1    6    0    14     1  8\n",
            "BB+                  3   0   1   0    5    0    18     2  9\n",
            "BB-                  4   0   5   0    4    1     8     0  7\n",
            "BBB                  0   0   9   0    2    0    26     3  6\n",
            "BBB+                 0   0   0   0    0    0    39     0  0\n",
            "BBB-                 4   0   1   1    7    0    19     2  5\n",
            "D                    2   0   9   0    3    0     6     0  9\n"
          ],
          "name": "stdout"
        }
      ]
    },
    {
      "cell_type": "code",
      "metadata": {
        "id": "aBWjsUbMQSVM",
        "colab_type": "code",
        "outputId": "6198fbe2-c338-4c06-97fe-e07520c0da09",
        "colab": {
          "base_uri": "https://localhost:8080/",
          "height": 381
        }
      },
      "source": [
        "import seaborn as sns\n",
        "sns.heatmap(mat,annot=True)"
      ],
      "execution_count": 33,
      "outputs": [
        {
          "output_type": "execute_result",
          "data": {
            "text/plain": [
              "<matplotlib.axes._subplots.AxesSubplot at 0x7f8a3e08f5f8>"
            ]
          },
          "metadata": {
            "tags": []
          },
          "execution_count": 33
        },
        {
          "output_type": "display_data",
          "data": {
            "image/png": "[encoded data removed]",
            "text/plain": [
              "<Figure size 576x396 with 2 Axes>"
            ]
          },
          "metadata": {
            "tags": []
          }
        }
      ]
    },
    {
      "cell_type": "code",
      "metadata": {
        "id": "vP_uZNmyuwfi",
        "colab_type": "code",
        "colab": {}
      },
      "source": [
        "import pandas as pd\n",
        "import matplotlib.pyplot as plt\n",
        "%matplotlib inline\n",
        "import seaborn as sns\n",
        "\n",
        "from imblearn.over_sampling import SMOTE\n",
        "from sklearn.model_selection import train_test_split\n",
        "\n",
        "from sklearn.preprocessing import StandardScaler\n",
        "from sklearn.preprocessing import MinMaxScaler\n",
        "from sklearn.preprocessing import LabelEncoder\n",
        "\n",
        "from sklearn.linear_model import LogisticRegression\n",
        "from sklearn.ensemble import RandomForestClassifier\n",
        "from sklearn.svm import SVC\n",
        "from sklearn.ensemble import GradientBoostingClassifier\n",
        "from xgboost import XGBClassifier\n",
        "\n",
        "from sklearn.metrics import classification_report, confusion_matrix\n",
        "from sklearn.metrics import accuracy_score\n",
        "\n"
      ],
      "execution_count": 0,
      "outputs": []
    },
    {
      "cell_type": "code",
      "metadata": {
        "id": "MvIJjFgAveF2",
        "colab_type": "code",
        "outputId": "a84aaa09-a1e4-43a5-8d7e-5b8f41af72e6",
        "colab": {
          "base_uri": "https://localhost:8080/",
          "height": 136
        }
      },
      "source": [
        "model2 = RandomForestClassifier(class_weight=None, n_estimators = 100, criterion = 'entropy', random_state = 18)\n",
        "model2.fit(x_train, y_train)"
      ],
      "execution_count": 35,
      "outputs": [
        {
          "output_type": "execute_result",
          "data": {
            "text/plain": [
              "RandomForestClassifier(bootstrap=True, class_weight=None, criterion='entropy',\n",
              "                       max_depth=None, max_features='auto', max_leaf_nodes=None,\n",
              "                       min_impurity_decrease=0.0, min_impurity_split=None,\n",
              "                       min_samples_leaf=1, min_samples_split=2,\n",
              "                       min_weight_fraction_leaf=0.0, n_estimators=100,\n",
              "                       n_jobs=None, oob_score=False, random_state=18, verbose=0,\n",
              "                       warm_start=False)"
            ]
          },
          "metadata": {
            "tags": []
          },
          "execution_count": 35
        }
      ]
    },
    {
      "cell_type": "code",
      "metadata": {
        "id": "B1YjGbZGvq4D",
        "colab_type": "code",
        "outputId": "b4eb2ec4-27da-4c70-eb8f-8d3208037bd4",
        "cellView": "both",
        "colab": {
          "base_uri": "https://localhost:8080/",
          "height": 221
        }
      },
      "source": [
        "#@title \n",
        "# Predicting the Test set results\n",
        "y_random_pred = model2.predict(x_test)\n",
        "\n",
        "# Making the Confusion Matrix\n",
        "mat=pd.crosstab(y_test, y_random_pred, rownames=['Actual PD rating'], colnames=['Predicted PD rating'])\n",
        "print(mat)"
      ],
      "execution_count": 36,
      "outputs": [
        {
          "output_type": "stream",
          "text": [
            "Predicted PD rating   B  B+  B-  BB  BB+  BB-  BBB  BBB+  BBB-   D\n",
            "Actual PD rating                                                  \n",
            "B                    34   1   0   2    0    0    0     0     0   0\n",
            "B+                    2  26   0   1    0    8    0     0     0   3\n",
            "B-                    0   0  42   0    0    0    0     0     0   0\n",
            "BB                    1   3   0  13   10    4    0     0     2   6\n",
            "BB+                   0   0   0   7   17    7    0     2     4   1\n",
            "BB-                   1   8   1   2    3   11    0     0     1   2\n",
            "BBB                   0   0   0   0    0    0   46     0     0   0\n",
            "BBB+                  0   0   0   0    0    0    0    39     0   0\n",
            "BBB-                  0   1   0   4    2    2    0     0    29   1\n",
            "D                     0   1   0   0    2    2    0     0     0  24\n"
          ],
          "name": "stdout"
        }
      ]
    },
    {
      "cell_type": "code",
      "metadata": {
        "id": "d9xdW2sHHiA8",
        "colab_type": "code",
        "outputId": "9902c4cf-bfc2-4929-e865-e5782d6bea87",
        "colab": {
          "base_uri": "https://localhost:8080/",
          "height": 300
        }
      },
      "source": [
        "import seaborn as sns\n",
        "sns.heatmap(mat,annot=True)\n"
      ],
      "execution_count": 37,
      "outputs": [
        {
          "output_type": "execute_result",
          "data": {
            "text/plain": [
              "<matplotlib.axes._subplots.AxesSubplot at 0x7f8a3deb6ef0>"
            ]
          },
          "metadata": {
            "tags": []
          },
          "execution_count": 37
        },
        {
          "output_type": "display_data",
          "data": {
            "image/png": "[encoded data removed]",
            "text/plain": [
              "<Figure size 432x288 with 2 Axes>"
            ]
          },
          "metadata": {
            "tags": []
          }
        }
      ]
    },
    {
      "cell_type": "code",
      "metadata": {
        "id": "AMTavwgzvyEB",
        "colab_type": "code",
        "outputId": "5179669a-646d-4221-e3dd-dfa54e93b42f",
        "colab": {
          "base_uri": "https://localhost:8080/",
          "height": 34
        }
      },
      "source": [
        "\n",
        "accuracy_score(y_test, y_random_pred)\n"
      ],
      "execution_count": 38,
      "outputs": [
        {
          "output_type": "execute_result",
          "data": {
            "text/plain": [
              "0.7433862433862434"
            ]
          },
          "metadata": {
            "tags": []
          },
          "execution_count": 38
        }
      ]
    },
    {
      "cell_type": "code",
      "metadata": {
        "id": "XxcDoYYiw4Uw",
        "colab_type": "code",
        "colab": {}
      },
      "source": [
        "#model2.score(x_train,y_test)"
      ],
      "execution_count": 0,
      "outputs": []
    },
    {
      "cell_type": "code",
      "metadata": {
        "id": "HkJqLBH1xYT9",
        "colab_type": "code",
        "outputId": "33a0663a-bac3-491b-8a46-ce2ec94f70a9",
        "colab": {
          "base_uri": "https://localhost:8080/",
          "height": 374
        }
      },
      "source": [
        "lr_list = [0.05, 0.075, 0.1, 0.25, 0.5, 0.75, 1]\n",
        "for learning_rate in lr_list:\n",
        "    gb_clf = GradientBoostingClassifier(n_estimators=50, learning_rate=learning_rate, max_depth=2, random_state=23)\n",
        "    gb_clf.fit(x_train, y_train)\n",
        "\n",
        "    print(\"Learning rate: \", learning_rate)\n",
        "    print(\"Accuracy score (training): {0:.3f}\".format(gb_clf.score(x_train, y_train)))\n",
        "    print(\"Accuracy score (validation): {0:.3f}\".format(gb_clf.score(x_test, y_test)))"
      ],
      "execution_count": 39,
      "outputs": [
        {
          "output_type": "stream",
          "text": [
            "Learning rate:  0.05\n",
            "Accuracy score (training): 0.681\n",
            "Accuracy score (validation): 0.534\n",
            "Learning rate:  0.075\n",
            "Accuracy score (training): 0.726\n",
            "Accuracy score (validation): 0.593\n",
            "Learning rate:  0.1\n",
            "Accuracy score (training): 0.767\n",
            "Accuracy score (validation): 0.603\n",
            "Learning rate:  0.25\n",
            "Accuracy score (training): 0.895\n",
            "Accuracy score (validation): 0.661\n",
            "Learning rate:  0.5\n",
            "Accuracy score (training): 0.972\n",
            "Accuracy score (validation): 0.651\n",
            "Learning rate:  0.75\n",
            "Accuracy score (training): 0.998\n",
            "Accuracy score (validation): 0.661\n",
            "Learning rate:  1\n",
            "Accuracy score (training): 0.960\n",
            "Accuracy score (validation): 0.627\n"
          ],
          "name": "stdout"
        }
      ]
    },
    {
      "cell_type": "code",
      "metadata": {
        "id": "oIWbjPxJx2dP",
        "colab_type": "code",
        "outputId": "08ea2485-2eda-43a4-ddb1-0db05b7c7ac6",
        "colab": {
          "base_uri": "https://localhost:8080/",
          "height": 510
        }
      },
      "source": [
        "gb_clf2 = GradientBoostingClassifier(n_estimators=100, learning_rate=0.25, max_features=15, max_depth=2, random_state=23)\n",
        "gb_clf2.fit(x_train, y_train)\n",
        "predictions = gb_clf2.predict(x_test)\n",
        "\n",
        "print(\"Confusion Matrix:\")\n",
        "print(confusion_matrix(y_test, predictions))\n",
        "\n",
        "print(\"Classification Report\")\n",
        "print(classification_report(y_test, predictions))"
      ],
      "execution_count": 40,
      "outputs": [
        {
          "output_type": "stream",
          "text": [
            "Confusion Matrix:\n",
            "[[29  1  0  3  3  0  0  0  0  1]\n",
            " [ 2 16  1  3  0 11  1  0  1  5]\n",
            " [ 0  0 42  0  0  0  0  0  0  0]\n",
            " [ 2  6  0  6  6  9  0  0  6  4]\n",
            " [ 1  2  0 10 18  3  0  0  4  0]\n",
            " [ 2  4  0  2  2 15  0  0  3  1]\n",
            " [ 0  0  0  0  0  0 41  0  5  0]\n",
            " [ 0  0  0  0  0  0  0 39  0  0]\n",
            " [ 0  1  0  4  3  4  0  0 27  0]\n",
            " [ 1  2  0  1  2  4  0  0  0 19]]\n",
            "Classification Report\n",
            "              precision    recall  f1-score   support\n",
            "\n",
            "           B       0.78      0.78      0.78        37\n",
            "          B+       0.50      0.40      0.44        40\n",
            "          B-       0.98      1.00      0.99        42\n",
            "          BB       0.21      0.15      0.18        39\n",
            "         BB+       0.53      0.47      0.50        38\n",
            "         BB-       0.33      0.52      0.40        29\n",
            "         BBB       0.98      0.89      0.93        46\n",
            "        BBB+       1.00      1.00      1.00        39\n",
            "        BBB-       0.59      0.69      0.64        39\n",
            "           D       0.63      0.66      0.64        29\n",
            "\n",
            "    accuracy                           0.67       378\n",
            "   macro avg       0.65      0.66      0.65       378\n",
            "weighted avg       0.67      0.67      0.66       378\n",
            "\n"
          ],
          "name": "stdout"
        }
      ]
    },
    {
      "cell_type": "code",
      "metadata": {
        "id": "cVe4gylR1AHM",
        "colab_type": "code",
        "outputId": "8c64c049-54be-405f-cf9a-e6805f81f088",
        "colab": {
          "base_uri": "https://localhost:8080/",
          "height": 136
        }
      },
      "source": [
        "# from xgboost import XGBClassifier\n",
        "xgb_clf = XGBClassifier(random_state=23)\n",
        "xgb_clf.fit(x_train, y_train)"
      ],
      "execution_count": 41,
      "outputs": [
        {
          "output_type": "execute_result",
          "data": {
            "text/plain": [
              "XGBClassifier(base_score=0.5, booster='gbtree', colsample_bylevel=1,\n",
              "              colsample_bynode=1, colsample_bytree=1, gamma=0,\n",
              "              learning_rate=0.1, max_delta_step=0, max_depth=3,\n",
              "              min_child_weight=1, missing=None, n_estimators=100, n_jobs=1,\n",
              "              nthread=None, objective='multi:softprob', random_state=23,\n",
              "              reg_alpha=0, reg_lambda=1, scale_pos_weight=1, seed=None,\n",
              "              silent=None, subsample=1, verbosity=1)"
            ]
          },
          "metadata": {
            "tags": []
          },
          "execution_count": 41
        }
      ]
    },
    {
      "cell_type": "code",
      "metadata": {
        "id": "-N5VcVIe1Mx2",
        "colab_type": "code",
        "outputId": "a2f94716-38a3-40f1-dfff-181109e3ae33",
        "colab": {
          "base_uri": "https://localhost:8080/",
          "height": 34
        }
      },
      "source": [
        "score = xgb_clf.score(x_test, y_test)\n",
        "print(score)"
      ],
      "execution_count": 42,
      "outputs": [
        {
          "output_type": "stream",
          "text": [
            "0.6455026455026455\n"
          ],
          "name": "stdout"
        }
      ]
    },
    {
      "cell_type": "code",
      "metadata": {
        "id": "lVDB0cL31SJ4",
        "colab_type": "code",
        "colab": {}
      },
      "source": [
        "y_pred = xgb_clf.predict(x_test)"
      ],
      "execution_count": 0,
      "outputs": []
    },
    {
      "cell_type": "code",
      "metadata": {
        "id": "6m5MKNZ01Wgv",
        "colab_type": "code",
        "outputId": "b2a4e033-10c9-4659-a7a1-c76812cf75f1",
        "colab": {
          "base_uri": "https://localhost:8080/",
          "height": 34
        }
      },
      "source": [
        "accuracy_score(y_test,y_pred)"
      ],
      "execution_count": 44,
      "outputs": [
        {
          "output_type": "execute_result",
          "data": {
            "text/plain": [
              "0.6455026455026455"
            ]
          },
          "metadata": {
            "tags": []
          },
          "execution_count": 44
        }
      ]
    },
    {
      "cell_type": "code",
      "metadata": {
        "id": "Iz_c2KJDZQ7G",
        "colab_type": "code",
        "colab": {}
      },
      "source": [
        "param_grid = { \n",
        "    'n_estimators': [200, 500],\n",
        "    'max_features': ['auto', 'sqrt', 'log2'],\n",
        "    'max_depth' : [4,5,6,7,8],\n",
        "    'criterion' :['gini', 'entropy']\n",
        "}"
      ],
      "execution_count": 0,
      "outputs": []
    },
    {
      "cell_type": "code",
      "metadata": {
        "id": "sfQJhzVBZeQf",
        "colab_type": "code",
        "colab": {}
      },
      "source": [
        "from sklearn.model_selection import GridSearchCV\n",
        "CV_rfc = GridSearchCV(estimator=model2, param_grid=param_grid, cv= 5)\n",
        "rfc_grid_result = CV_rfc.fit(x_train, y_train)"
      ],
      "execution_count": 0,
      "outputs": []
    },
    {
      "cell_type": "code",
      "metadata": {
        "id": "IHwUcufTc2NN",
        "colab_type": "code",
        "colab": {}
      },
      "source": [
        "best_params_rfc = rfc_grid_result.best_params_"
      ],
      "execution_count": 0,
      "outputs": []
    },
    {
      "cell_type": "code",
      "metadata": {
        "id": "J97a6SO4ggP7",
        "colab_type": "code",
        "outputId": "e5ec4da8-0562-4757-b3fd-bf842d61bf24",
        "colab": {
          "base_uri": "https://localhost:8080/",
          "height": 85
        }
      },
      "source": [
        "\n",
        "best_params_rfc"
      ],
      "execution_count": 49,
      "outputs": [
        {
          "output_type": "execute_result",
          "data": {
            "text/plain": [
              "{'criterion': 'entropy',\n",
              " 'max_depth': 8,\n",
              " 'max_features': 'auto',\n",
              " 'n_estimators': 500}"
            ]
          },
          "metadata": {
            "tags": []
          },
          "execution_count": 49
        }
      ]
    },
    {
      "cell_type": "code",
      "metadata": {
        "id": "LayjbuhoZqrQ",
        "colab_type": "code",
        "colab": {}
      },
      "source": [
        "rfc1=RandomForestClassifier(random_state=42, max_features='auto', n_estimators= 500, max_depth=8, criterion='entropy')"
      ],
      "execution_count": 0,
      "outputs": []
    },
    {
      "cell_type": "code",
      "metadata": {
        "id": "WOO3RJmCZx73",
        "colab_type": "code",
        "outputId": "546ff5f8-b63b-46b2-835d-7ce1ffe54eee",
        "colab": {
          "base_uri": "https://localhost:8080/",
          "height": 136
        }
      },
      "source": [
        "rfc1.fit(x_train, y_train)"
      ],
      "execution_count": 52,
      "outputs": [
        {
          "output_type": "execute_result",
          "data": {
            "text/plain": [
              "RandomForestClassifier(bootstrap=True, class_weight=None, criterion='entropy',\n",
              "                       max_depth=8, max_features='auto', max_leaf_nodes=None,\n",
              "                       min_impurity_decrease=0.0, min_impurity_split=None,\n",
              "                       min_samples_leaf=1, min_samples_split=2,\n",
              "                       min_weight_fraction_leaf=0.0, n_estimators=500,\n",
              "                       n_jobs=None, oob_score=False, random_state=42, verbose=0,\n",
              "                       warm_start=False)"
            ]
          },
          "metadata": {
            "tags": []
          },
          "execution_count": 52
        }
      ]
    },
    {
      "cell_type": "code",
      "metadata": {
        "id": "oMnwJ963Z229",
        "colab_type": "code",
        "colab": {}
      },
      "source": [
        "pred=rfc1.predict(x_test)"
      ],
      "execution_count": 0,
      "outputs": []
    },
    {
      "cell_type": "code",
      "metadata": {
        "id": "xyYsKE90Z6i-",
        "colab_type": "code",
        "outputId": "e2b58938-efc5-46de-c6b8-cc7057b41572",
        "colab": {
          "base_uri": "https://localhost:8080/",
          "height": 34
        }
      },
      "source": [
        "print(\"Accuracy for Random Forest on CV data: \",accuracy_score(y_test,pred))"
      ],
      "execution_count": 54,
      "outputs": [
        {
          "output_type": "stream",
          "text": [
            "Accuracy for Random Forest on CV data:  0.6878306878306878\n"
          ],
          "name": "stdout"
        }
      ]
    },
    {
      "cell_type": "markdown",
      "metadata": {
        "id": "C12Ca2s3Unhs",
        "colab_type": "text"
      },
      "source": [
        "Feature Importance"
      ]
    },
    {
      "cell_type": "code",
      "metadata": {
        "id": "XJWgIT5kU6iU",
        "colab_type": "code",
        "outputId": "a1b356fa-3bb9-4a51-b0af-1af79acf17bf",
        "colab": {
          "base_uri": "https://localhost:8080/",
          "height": 204
        }
      },
      "source": [
        "#pd_data.columns\n",
        "class_names = ['Revenue', 'Operating Profit', 'Interest Expense',\n",
        "       'Net Income', 'Cash generated by operations', 'Working Capital (+/-)',\n",
        "       'Opening debt', 'Closing debt', 'Cash and Marketable Securities',\n",
        "       'Accounts Receivable/Trade Debtors', 'Inventory',\n",
        "       'Other Current Assets~', 'Property, Plant & Equipment',\n",
        "       'Intangible Assets', 'Other Non-current Assets',\n",
        "       'Short-term Debt (inc. CPLTD)', 'Accounts Payable/Trade Creditors',\n",
        "       'Other Short-term Liabilities', 'Long-term Unsecured Debt',\n",
        "       'Long-term Secured Debt', 'Provisions', 'Other Long-term Liabilities',\n",
        "       'Minority Interest/Minorities', 'Equity Capital & Reserves']\n",
        "#matrix = confusion_matrix(y_test, pred)\n",
        "x_train_2 = pd.DataFrame(x_train)\n",
        "x_train_2.head()"
      ],
      "execution_count": 55,
      "outputs": [
        {
          "output_type": "execute_result",
          "data": {
            "text/html": [
              "<div>\n",
              "<style scoped>\n",
              "    .dataframe tbody tr th:only-of-type {\n",
              "        vertical-align: middle;\n",
              "    }\n",
              "\n",
              "    .dataframe tbody tr th {\n",
              "        vertical-align: top;\n",
              "    }\n",
              "\n",
              "    .dataframe thead th {\n",
              "        text-align: right;\n",
              "    }\n",
              "</style>\n",
              "<table border=\"1\" class=\"dataframe\">\n",
              "  <thead>\n",
              "    <tr style=\"text-align: right;\">\n",
              "      <th></th>\n",
              "      <th>2</th>\n",
              "      <th>3</th>\n",
              "      <th>4</th>\n",
              "      <th>5</th>\n",
              "      <th>6</th>\n",
              "      <th>7</th>\n",
              "      <th>8</th>\n",
              "      <th>9</th>\n",
              "      <th>10</th>\n",
              "      <th>11</th>\n",
              "      <th>12</th>\n",
              "      <th>13</th>\n",
              "      <th>14</th>\n",
              "      <th>15</th>\n",
              "      <th>16</th>\n",
              "    </tr>\n",
              "  </thead>\n",
              "  <tbody>\n",
              "    <tr>\n",
              "      <th>597</th>\n",
              "      <td>0.002574</td>\n",
              "      <td>0.022178</td>\n",
              "      <td>0.475503</td>\n",
              "      <td>0.565699</td>\n",
              "      <td>0.422629</td>\n",
              "      <td>0.025278</td>\n",
              "      <td>0.115822</td>\n",
              "      <td>0.001143</td>\n",
              "      <td>0.255351</td>\n",
              "      <td>0.379001</td>\n",
              "      <td>0.415347</td>\n",
              "      <td>0.010925</td>\n",
              "      <td>0.259789</td>\n",
              "      <td>0.014763</td>\n",
              "      <td>0.506723</td>\n",
              "    </tr>\n",
              "    <tr>\n",
              "      <th>704</th>\n",
              "      <td>0.002597</td>\n",
              "      <td>0.019373</td>\n",
              "      <td>0.485362</td>\n",
              "      <td>0.559852</td>\n",
              "      <td>0.417489</td>\n",
              "      <td>0.043805</td>\n",
              "      <td>0.201099</td>\n",
              "      <td>0.000985</td>\n",
              "      <td>0.268324</td>\n",
              "      <td>0.291663</td>\n",
              "      <td>0.403119</td>\n",
              "      <td>0.007293</td>\n",
              "      <td>0.278655</td>\n",
              "      <td>0.025118</td>\n",
              "      <td>0.486181</td>\n",
              "    </tr>\n",
              "    <tr>\n",
              "      <th>1120</th>\n",
              "      <td>0.002612</td>\n",
              "      <td>0.019741</td>\n",
              "      <td>0.515320</td>\n",
              "      <td>0.565824</td>\n",
              "      <td>0.422649</td>\n",
              "      <td>0.034620</td>\n",
              "      <td>0.122545</td>\n",
              "      <td>0.001101</td>\n",
              "      <td>0.253858</td>\n",
              "      <td>0.428045</td>\n",
              "      <td>0.408690</td>\n",
              "      <td>0.005946</td>\n",
              "      <td>0.061894</td>\n",
              "      <td>0.033149</td>\n",
              "      <td>0.497548</td>\n",
              "    </tr>\n",
              "    <tr>\n",
              "      <th>324</th>\n",
              "      <td>0.003677</td>\n",
              "      <td>0.022230</td>\n",
              "      <td>0.496288</td>\n",
              "      <td>0.570818</td>\n",
              "      <td>0.426871</td>\n",
              "      <td>0.026405</td>\n",
              "      <td>0.115763</td>\n",
              "      <td>0.001246</td>\n",
              "      <td>0.253463</td>\n",
              "      <td>0.406886</td>\n",
              "      <td>0.404802</td>\n",
              "      <td>0.012044</td>\n",
              "      <td>0.172902</td>\n",
              "      <td>0.003396</td>\n",
              "      <td>0.490587</td>\n",
              "    </tr>\n",
              "    <tr>\n",
              "      <th>1833</th>\n",
              "      <td>0.002601</td>\n",
              "      <td>0.021499</td>\n",
              "      <td>0.486719</td>\n",
              "      <td>0.578425</td>\n",
              "      <td>0.434331</td>\n",
              "      <td>0.023095</td>\n",
              "      <td>0.112381</td>\n",
              "      <td>0.001191</td>\n",
              "      <td>0.254548</td>\n",
              "      <td>0.406277</td>\n",
              "      <td>0.406432</td>\n",
              "      <td>0.010755</td>\n",
              "      <td>0.293027</td>\n",
              "      <td>0.007553</td>\n",
              "      <td>0.491876</td>\n",
              "    </tr>\n",
              "  </tbody>\n",
              "</table>\n",
              "</div>"
            ],
            "text/plain": [
              "            2         3         4   ...        14        15        16\n",
              "597   0.002574  0.022178  0.475503  ...  0.259789  0.014763  0.506723\n",
              "704   0.002597  0.019373  0.485362  ...  0.278655  0.025118  0.486181\n",
              "1120  0.002612  0.019741  0.515320  ...  0.061894  0.033149  0.497548\n",
              "324   0.003677  0.022230  0.496288  ...  0.172902  0.003396  0.490587\n",
              "1833  0.002601  0.021499  0.486719  ...  0.293027  0.007553  0.491876\n",
              "\n",
              "[5 rows x 15 columns]"
            ]
          },
          "metadata": {
            "tags": []
          },
          "execution_count": 55
        }
      ]
    },
    {
      "cell_type": "code",
      "metadata": {
        "id": "dT82XwD6U5Zo",
        "colab_type": "code",
        "outputId": "efb9f286-b5c2-4399-a9a9-49b97f7d089d",
        "colab": {
          "base_uri": "https://localhost:8080/",
          "height": 204
        }
      },
      "source": [
        "#matrix = confusion_matrix(y_test, pred)\n",
        "x_train_2 = pd.DataFrame(x_train)\n",
        "x_train_2.head()"
      ],
      "execution_count": 56,
      "outputs": [
        {
          "output_type": "execute_result",
          "data": {
            "text/html": [
              "<div>\n",
              "<style scoped>\n",
              "    .dataframe tbody tr th:only-of-type {\n",
              "        vertical-align: middle;\n",
              "    }\n",
              "\n",
              "    .dataframe tbody tr th {\n",
              "        vertical-align: top;\n",
              "    }\n",
              "\n",
              "    .dataframe thead th {\n",
              "        text-align: right;\n",
              "    }\n",
              "</style>\n",
              "<table border=\"1\" class=\"dataframe\">\n",
              "  <thead>\n",
              "    <tr style=\"text-align: right;\">\n",
              "      <th></th>\n",
              "      <th>2</th>\n",
              "      <th>3</th>\n",
              "      <th>4</th>\n",
              "      <th>5</th>\n",
              "      <th>6</th>\n",
              "      <th>7</th>\n",
              "      <th>8</th>\n",
              "      <th>9</th>\n",
              "      <th>10</th>\n",
              "      <th>11</th>\n",
              "      <th>12</th>\n",
              "      <th>13</th>\n",
              "      <th>14</th>\n",
              "      <th>15</th>\n",
              "      <th>16</th>\n",
              "    </tr>\n",
              "  </thead>\n",
              "  <tbody>\n",
              "    <tr>\n",
              "      <th>597</th>\n",
              "      <td>0.002574</td>\n",
              "      <td>0.022178</td>\n",
              "      <td>0.475503</td>\n",
              "      <td>0.565699</td>\n",
              "      <td>0.422629</td>\n",
              "      <td>0.025278</td>\n",
              "      <td>0.115822</td>\n",
              "      <td>0.001143</td>\n",
              "      <td>0.255351</td>\n",
              "      <td>0.379001</td>\n",
              "      <td>0.415347</td>\n",
              "      <td>0.010925</td>\n",
              "      <td>0.259789</td>\n",
              "      <td>0.014763</td>\n",
              "      <td>0.506723</td>\n",
              "    </tr>\n",
              "    <tr>\n",
              "      <th>704</th>\n",
              "      <td>0.002597</td>\n",
              "      <td>0.019373</td>\n",
              "      <td>0.485362</td>\n",
              "      <td>0.559852</td>\n",
              "      <td>0.417489</td>\n",
              "      <td>0.043805</td>\n",
              "      <td>0.201099</td>\n",
              "      <td>0.000985</td>\n",
              "      <td>0.268324</td>\n",
              "      <td>0.291663</td>\n",
              "      <td>0.403119</td>\n",
              "      <td>0.007293</td>\n",
              "      <td>0.278655</td>\n",
              "      <td>0.025118</td>\n",
              "      <td>0.486181</td>\n",
              "    </tr>\n",
              "    <tr>\n",
              "      <th>1120</th>\n",
              "      <td>0.002612</td>\n",
              "      <td>0.019741</td>\n",
              "      <td>0.515320</td>\n",
              "      <td>0.565824</td>\n",
              "      <td>0.422649</td>\n",
              "      <td>0.034620</td>\n",
              "      <td>0.122545</td>\n",
              "      <td>0.001101</td>\n",
              "      <td>0.253858</td>\n",
              "      <td>0.428045</td>\n",
              "      <td>0.408690</td>\n",
              "      <td>0.005946</td>\n",
              "      <td>0.061894</td>\n",
              "      <td>0.033149</td>\n",
              "      <td>0.497548</td>\n",
              "    </tr>\n",
              "    <tr>\n",
              "      <th>324</th>\n",
              "      <td>0.003677</td>\n",
              "      <td>0.022230</td>\n",
              "      <td>0.496288</td>\n",
              "      <td>0.570818</td>\n",
              "      <td>0.426871</td>\n",
              "      <td>0.026405</td>\n",
              "      <td>0.115763</td>\n",
              "      <td>0.001246</td>\n",
              "      <td>0.253463</td>\n",
              "      <td>0.406886</td>\n",
              "      <td>0.404802</td>\n",
              "      <td>0.012044</td>\n",
              "      <td>0.172902</td>\n",
              "      <td>0.003396</td>\n",
              "      <td>0.490587</td>\n",
              "    </tr>\n",
              "    <tr>\n",
              "      <th>1833</th>\n",
              "      <td>0.002601</td>\n",
              "      <td>0.021499</td>\n",
              "      <td>0.486719</td>\n",
              "      <td>0.578425</td>\n",
              "      <td>0.434331</td>\n",
              "      <td>0.023095</td>\n",
              "      <td>0.112381</td>\n",
              "      <td>0.001191</td>\n",
              "      <td>0.254548</td>\n",
              "      <td>0.406277</td>\n",
              "      <td>0.406432</td>\n",
              "      <td>0.010755</td>\n",
              "      <td>0.293027</td>\n",
              "      <td>0.007553</td>\n",
              "      <td>0.491876</td>\n",
              "    </tr>\n",
              "  </tbody>\n",
              "</table>\n",
              "</div>"
            ],
            "text/plain": [
              "            2         3         4   ...        14        15        16\n",
              "597   0.002574  0.022178  0.475503  ...  0.259789  0.014763  0.506723\n",
              "704   0.002597  0.019373  0.485362  ...  0.278655  0.025118  0.486181\n",
              "1120  0.002612  0.019741  0.515320  ...  0.061894  0.033149  0.497548\n",
              "324   0.003677  0.022230  0.496288  ...  0.172902  0.003396  0.490587\n",
              "1833  0.002601  0.021499  0.486719  ...  0.293027  0.007553  0.491876\n",
              "\n",
              "[5 rows x 15 columns]"
            ]
          },
          "metadata": {
            "tags": []
          },
          "execution_count": 56
        }
      ]
    },
    {
      "cell_type": "code",
      "metadata": {
        "id": "gJbT-bpsUtOo",
        "colab_type": "code",
        "outputId": "8147323a-99c2-4697-be7a-a61610429858",
        "colab": {
          "base_uri": "https://localhost:8080/",
          "height": 136
        }
      },
      "source": [
        "model2.fit(x_train_2, y_train)"
      ],
      "execution_count": 57,
      "outputs": [
        {
          "output_type": "execute_result",
          "data": {
            "text/plain": [
              "RandomForestClassifier(bootstrap=True, class_weight=None, criterion='entropy',\n",
              "                       max_depth=None, max_features='auto', max_leaf_nodes=None,\n",
              "                       min_impurity_decrease=0.0, min_impurity_split=None,\n",
              "                       min_samples_leaf=1, min_samples_split=2,\n",
              "                       min_weight_fraction_leaf=0.0, n_estimators=100,\n",
              "                       n_jobs=None, oob_score=False, random_state=18, verbose=0,\n",
              "                       warm_start=False)"
            ]
          },
          "metadata": {
            "tags": []
          },
          "execution_count": 57
        }
      ]
    },
    {
      "cell_type": "code",
      "metadata": {
        "id": "wrfdVT7UWdha",
        "colab_type": "code",
        "outputId": "08cb96b8-b66a-4966-acea-c56f9f0f8dfc",
        "colab": {
          "base_uri": "https://localhost:8080/",
          "height": 34
        }
      },
      "source": [
        "pred2=model2.predict(x_test)\n",
        "print(\"Accuracy for Random Forest on CV data: \",accuracy_score(y_test,pred2))"
      ],
      "execution_count": 58,
      "outputs": [
        {
          "output_type": "stream",
          "text": [
            "Accuracy for Random Forest on CV data:  0.7433862433862434\n"
          ],
          "name": "stdout"
        }
      ]
    },
    {
      "cell_type": "code",
      "metadata": {
        "id": "9wzzFLpVZ-r2",
        "colab_type": "code",
        "outputId": "5b156978-c94f-459b-9ed5-9687046af0cb",
        "colab": {
          "base_uri": "https://localhost:8080/",
          "height": 71
        }
      },
      "source": [
        "importances = model2.feature_importances_\n",
        "#Sort it\n",
        "print (\"Sorted Feature Importance:\")\n",
        "sorted_feature_importance = sorted(zip(importances, list(x_train_2)), reverse=True)\n",
        "print (sorted_feature_importance)"
      ],
      "execution_count": 59,
      "outputs": [
        {
          "output_type": "stream",
          "text": [
            "Sorted Feature Importance:\n",
            "[(0.12662254564205921, 2), (0.1004424208377934, 3), (0.06921937858642066, 8), (0.06599694670943528, 11), (0.06494478559167378, 5), (0.06462521854862119, 10), (0.06411903591517484, 15), (0.05935349469985136, 9), (0.0585293546314127, 6), (0.05841814228997336, 13), (0.05823129730166346, 4), (0.055956245201945365, 14), (0.053044429477305616, 12), (0.0523510266438734, 7), (0.048145677922796455, 16)]\n"
          ],
          "name": "stdout"
        }
      ]
    },
    {
      "cell_type": "code",
      "metadata": {
        "id": "qD0eVVzvXmnv",
        "colab_type": "code",
        "colab": {}
      },
      "source": [
        "# sorted_feature_importance.plot(kind = 'bar')\n",
        "#from catboost import Pool\n",
        "#feature_score = pd.DataFrame(list(zip(x_train_2.dtypes.index, importances))\n",
        "#feature_score = feature_score.sort_values(by='Score', ascending=False, inplace=False, kind='quicksort', na_position='last')"
      ],
      "execution_count": 0,
      "outputs": []
    },
    {
      "cell_type": "code",
      "metadata": {
        "id": "EDenWkUum0Ej",
        "colab_type": "code",
        "colab": {}
      },
      "source": [
        "#feat_importances = pd.Series(sorted_feature_importance)\n",
        "#feat_importances.nlargest(23).plot(kind='barh')"
      ],
      "execution_count": 0,
      "outputs": []
    },
    {
      "cell_type": "code",
      "metadata": {
        "id": "30998KYl1ZB1",
        "colab_type": "code",
        "colab": {}
      },
      "source": [
        "\n",
        "from sklearn.model_selection import GridSearchCV\n",
        "svclassifier=SVC(kernel='rbf',random_state = 23)\n",
        "attr = {'C':[0.1,1,2,5,10,25,50,100],'gamma':[1e-1,1e-2,1e-3]}\n",
        "classif = GridSearchCV(svclassifier,attr,cv=5)\n",
        "grid_result = classif.fit(x_train, y_train)"
      ],
      "execution_count": 0,
      "outputs": []
    },
    {
      "cell_type": "code",
      "metadata": {
        "id": "Hjue9QR5WTEu",
        "colab_type": "code",
        "colab": {}
      },
      "source": [
        "best_params = grid_result.best_params_"
      ],
      "execution_count": 0,
      "outputs": []
    },
    {
      "cell_type": "code",
      "metadata": {
        "id": "SkEaJjUeXEDv",
        "colab_type": "code",
        "outputId": "b46618a6-fa14-4810-f76e-1defc2e4ffd0",
        "colab": {
          "base_uri": "https://localhost:8080/",
          "height": 34
        }
      },
      "source": [
        "best_params"
      ],
      "execution_count": 64,
      "outputs": [
        {
          "output_type": "execute_result",
          "data": {
            "text/plain": [
              "{'C': 100, 'gamma': 0.1}"
            ]
          },
          "metadata": {
            "tags": []
          },
          "execution_count": 64
        }
      ]
    },
    {
      "cell_type": "code",
      "metadata": {
        "id": "wDlHdCP3XNdY",
        "colab_type": "code",
        "outputId": "7b6245f1-52c0-4f47-f787-d30af8ca28d8",
        "colab": {
          "base_uri": "https://localhost:8080/",
          "height": 85
        }
      },
      "source": [
        "svc_classf = SVC(C=100, kernel='rbf', gamma=0.1,random_state = 23)\n",
        "svc_classf.fit(x_train, y_train)"
      ],
      "execution_count": 66,
      "outputs": [
        {
          "output_type": "execute_result",
          "data": {
            "text/plain": [
              "SVC(C=100, cache_size=200, class_weight=None, coef0=0.0,\n",
              "    decision_function_shape='ovr', degree=3, gamma=0.1, kernel='rbf',\n",
              "    max_iter=-1, probability=False, random_state=23, shrinking=True, tol=0.001,\n",
              "    verbose=False)"
            ]
          },
          "metadata": {
            "tags": []
          },
          "execution_count": 66
        }
      ]
    },
    {
      "cell_type": "code",
      "metadata": {
        "id": "c3XZlDRjX40U",
        "colab_type": "code",
        "outputId": "b2dff55b-fc34-405b-e4a6-6de987b0f9d6",
        "colab": {
          "base_uri": "https://localhost:8080/",
          "height": 476
        }
      },
      "source": [
        "svc_y_pred = svc_classf.predict(x_test)\n",
        "print(confusion_matrix(y_test,y_pred))\n",
        "print(classification_report(y_test,y_pred))"
      ],
      "execution_count": 67,
      "outputs": [
        {
          "output_type": "stream",
          "text": [
            "[[25  4  1  1  1  3  0  0  0  2]\n",
            " [ 5 19  0  2  1  8  0  0  1  4]\n",
            " [ 0  0 42  0  0  0  0  0  0  0]\n",
            " [ 2  4  0  9  6  5  0  0  8  5]\n",
            " [ 0  2  2  5 19  4  0  1  5  0]\n",
            " [ 3  6  0  3  5  5  0  0  2  5]\n",
            " [ 0  0  0  0  0  0 39  1  6  0]\n",
            " [ 0  0  0  0  0  0  0 39  0  0]\n",
            " [ 1  2  0  2  5  2  1  0 25  1]\n",
            " [ 0  1  0  2  0  4  0  0  0 22]]\n",
            "              precision    recall  f1-score   support\n",
            "\n",
            "           B       0.69      0.68      0.68        37\n",
            "          B+       0.50      0.47      0.49        40\n",
            "          B-       0.93      1.00      0.97        42\n",
            "          BB       0.38      0.23      0.29        39\n",
            "         BB+       0.51      0.50      0.51        38\n",
            "         BB-       0.16      0.17      0.17        29\n",
            "         BBB       0.97      0.85      0.91        46\n",
            "        BBB+       0.95      1.00      0.97        39\n",
            "        BBB-       0.53      0.64      0.58        39\n",
            "           D       0.56      0.76      0.65        29\n",
            "\n",
            "    accuracy                           0.65       378\n",
            "   macro avg       0.62      0.63      0.62       378\n",
            "weighted avg       0.64      0.65      0.64       378\n",
            "\n"
          ],
          "name": "stdout"
        }
      ]
    },
    {
      "cell_type": "code",
      "metadata": {
        "id": "aAZKvHypYJO0",
        "colab_type": "code",
        "outputId": "d08bfe07-529e-4e96-bd7f-7ce3bde3a02f",
        "colab": {
          "base_uri": "https://localhost:8080/",
          "height": 34
        }
      },
      "source": [
        "accuracy_score(y_test,svc_y_pred)"
      ],
      "execution_count": 68,
      "outputs": [
        {
          "output_type": "execute_result",
          "data": {
            "text/plain": [
              "0.24867724867724866"
            ]
          },
          "metadata": {
            "tags": []
          },
          "execution_count": 68
        }
      ]
    },
    {
      "cell_type": "code",
      "metadata": {
        "id": "MS9Xk7P61oLC",
        "colab_type": "code",
        "outputId": "3d703bae-4fa6-4ce4-f90e-e77e489f1d54",
        "colab": {
          "base_uri": "https://localhost:8080/",
          "height": 476
        }
      },
      "source": [
        "# making predictions\n",
        "y_pred = classif.predict(x_test)\n",
        "print(confusion_matrix(y_test,y_pred))\n",
        "print(classification_report(y_test,y_pred))"
      ],
      "execution_count": 69,
      "outputs": [
        {
          "output_type": "stream",
          "text": [
            "[[ 5  1  4  0  6  5  2  7  0  7]\n",
            " [ 1  6  7  1  8  6  0  2  3  6]\n",
            " [ 0  0 20  0 15  2  0  0  0  5]\n",
            " [ 0  3  1  3 13  3  2  5  4  5]\n",
            " [ 0  0  1  3  1  3  1 16  8  5]\n",
            " [ 0  1  8  2  5  3  0  4  1  5]\n",
            " [ 0  0  4  8 10  0  5 15  4  0]\n",
            " [ 0  0  0  0  0  0  0 39  0  0]\n",
            " [ 2  1  0  4 10  1  2 12  4  3]\n",
            " [ 0  0  7  1  5  2  0  4  2  8]]\n",
            "              precision    recall  f1-score   support\n",
            "\n",
            "           B       0.62      0.14      0.22        37\n",
            "          B+       0.50      0.15      0.23        40\n",
            "          B-       0.38      0.48      0.43        42\n",
            "          BB       0.14      0.08      0.10        39\n",
            "         BB+       0.01      0.03      0.02        38\n",
            "         BB-       0.12      0.10      0.11        29\n",
            "         BBB       0.42      0.11      0.17        46\n",
            "        BBB+       0.38      1.00      0.55        39\n",
            "        BBB-       0.15      0.10      0.12        39\n",
            "           D       0.18      0.28      0.22        29\n",
            "\n",
            "    accuracy                           0.25       378\n",
            "   macro avg       0.29      0.25      0.22       378\n",
            "weighted avg       0.30      0.25      0.22       378\n",
            "\n"
          ],
          "name": "stdout"
        }
      ]
    },
    {
      "cell_type": "code",
      "metadata": {
        "id": "VB5REcDG1uLS",
        "colab_type": "code",
        "outputId": "4759605e-db32-454b-ca0a-2c4ef4f45fa4",
        "colab": {
          "base_uri": "https://localhost:8080/",
          "height": 34
        }
      },
      "source": [
        "accuracy_score(y_test,y_pred)"
      ],
      "execution_count": 70,
      "outputs": [
        {
          "output_type": "execute_result",
          "data": {
            "text/plain": [
              "0.24867724867724866"
            ]
          },
          "metadata": {
            "tags": []
          },
          "execution_count": 70
        }
      ]
    },
    {
      "cell_type": "code",
      "metadata": {
        "id": "Z90DhtxX3ogj",
        "colab_type": "code",
        "colab": {}
      },
      "source": [
        "from sklearn.preprocessing import LabelBinarizer\n",
        "def multiclass_roc_auc_score(y_test, y_pred, average=\"macro\"):\n",
        "  lb = LabelBinarizer()\n",
        "  lb.fit(y_test)\n",
        "  y_test = lb.transform(y_test)\n",
        "  y_pred = lb.transform(y_pred)\n",
        "  return roc_auc_score(y_test, y_pred, average=average)\n"
      ],
      "execution_count": 0,
      "outputs": []
    },
    {
      "cell_type": "code",
      "metadata": {
        "id": "jkjwXVB-JYpU",
        "colab_type": "code",
        "outputId": "b729fa51-ee6e-4a0e-ae40-af719e62f04c",
        "colab": {
          "base_uri": "https://localhost:8080/",
          "height": 35
        }
      },
      "source": [
        "multiclass_roc_auc_score(y_test,y_random_pred)"
      ],
      "execution_count": 0,
      "outputs": [
        {
          "output_type": "execute_result",
          "data": {
            "text/plain": [
              "0.8446791691961799"
            ]
          },
          "metadata": {
            "tags": []
          },
          "execution_count": 124
        }
      ]
    },
    {
      "cell_type": "code",
      "metadata": {
        "id": "w4l1k1KeQ_kc",
        "colab_type": "code",
        "colab": {
          "base_uri": "https://localhost:8080/",
          "height": 231
        },
        "outputId": "0ad86acb-3512-4b62-da30-fabe2dbad6cc"
      },
      "source": [
        "# Learn to predict each class against the other\n",
        "classifier = OneVsRestClassifier(SVC(C=100, kernel='rbf', gamma=0.1,random_state = 23))\n",
        "y_score = classifier.fit(x_train, y_train).decision_function(x_test)\n",
        "\n",
        "# Compute ROC curve and ROC area for each class\n",
        "n_classes = 11\n",
        "fpr = dict()\n",
        "tpr = dict()\n",
        "roc_auc = dict()\n",
        "for i in range(n_classes):\n",
        "    fpr[i], tpr[i], _ = roc_curve(y_test[:, i], y_score[:, i])\n",
        "    roc_auc[i] = auc(fpr[i], tpr[i])\n",
        "\n",
        "# Compute micro-average ROC curve and ROC area\n",
        "fpr[\"micro\"], tpr[\"micro\"], _ = roc_curve(y_test.ravel(), y_score.ravel())\n",
        "roc_auc[\"micro\"] = auc(fpr[\"micro\"], tpr[\"micro\"])"
      ],
      "execution_count": 72,
      "outputs": [
        {
          "output_type": "error",
          "ename": "NameError",
          "evalue": "ignored",
          "traceback": [
            "\u001b[0;31m---------------------------------------------------------------------------\u001b[0m",
            "\u001b[0;31mNameError\u001b[0m                                 Traceback (most recent call last)",
            "\u001b[0;32m<ipython-input-72-1ae1783b2d63>\u001b[0m in \u001b[0;36m<module>\u001b[0;34m()\u001b[0m\n\u001b[0;32m----> 1\u001b[0;31m \u001b[0mclassifier\u001b[0m \u001b[0;34m=\u001b[0m \u001b[0mOneVsRestClassifier\u001b[0m\u001b[0;34m(\u001b[0m\u001b[0mSVC\u001b[0m\u001b[0;34m(\u001b[0m\u001b[0mC\u001b[0m\u001b[0;34m=\u001b[0m\u001b[0;36m100\u001b[0m\u001b[0;34m,\u001b[0m \u001b[0mkernel\u001b[0m\u001b[0;34m=\u001b[0m\u001b[0;34m'rbf'\u001b[0m\u001b[0;34m,\u001b[0m \u001b[0mgamma\u001b[0m\u001b[0;34m=\u001b[0m\u001b[0;36m0.1\u001b[0m\u001b[0;34m,\u001b[0m\u001b[0mrandom_state\u001b[0m \u001b[0;34m=\u001b[0m \u001b[0;36m23\u001b[0m\u001b[0;34m)\u001b[0m\u001b[0;34m)\u001b[0m\u001b[0;34m\u001b[0m\u001b[0;34m\u001b[0m\u001b[0m\n\u001b[0m\u001b[1;32m      2\u001b[0m \u001b[0my_score\u001b[0m \u001b[0;34m=\u001b[0m \u001b[0mclassifier\u001b[0m\u001b[0;34m.\u001b[0m\u001b[0mfit\u001b[0m\u001b[0;34m(\u001b[0m\u001b[0mx_train\u001b[0m\u001b[0;34m,\u001b[0m \u001b[0my_train\u001b[0m\u001b[0;34m)\u001b[0m\u001b[0;34m.\u001b[0m\u001b[0mdecision_function\u001b[0m\u001b[0;34m(\u001b[0m\u001b[0mx_test\u001b[0m\u001b[0;34m)\u001b[0m\u001b[0;34m\u001b[0m\u001b[0;34m\u001b[0m\u001b[0m\n\u001b[1;32m      3\u001b[0m \u001b[0;34m\u001b[0m\u001b[0m\n\u001b[1;32m      4\u001b[0m \u001b[0;31m# Compute ROC curve and ROC area for each class\u001b[0m\u001b[0;34m\u001b[0m\u001b[0;34m\u001b[0m\u001b[0;34m\u001b[0m\u001b[0m\n\u001b[1;32m      5\u001b[0m \u001b[0mn_classes\u001b[0m \u001b[0;34m=\u001b[0m \u001b[0;36m11\u001b[0m\u001b[0;34m\u001b[0m\u001b[0;34m\u001b[0m\u001b[0m\n",
            "\u001b[0;31mNameError\u001b[0m: name 'OneVsRestClassifier' is not defined"
          ]
        }
      ]
    },
    {
      "cell_type": "code",
      "metadata": {
        "id": "_5PRpKAoRVDN",
        "colab_type": "code",
        "colab": {}
      },
      "source": [
        "# First aggregate all false positive rates\n",
        "all_fpr = np.unique(np.concatenate([fpr[i] for i in range(n_classes)]))\n",
        "\n",
        "# Then interpolate all ROC curves at this points\n",
        "mean_tpr = np.zeros_like(all_fpr)\n",
        "for i in range(n_classes):\n",
        "    mean_tpr += interp(all_fpr, fpr[i], tpr[i])\n",
        "\n",
        "# Finally average it and compute AUC\n",
        "mean_tpr /= n_classes\n",
        "\n",
        "fpr[\"macro\"] = all_fpr\n",
        "tpr[\"macro\"] = mean_tpr\n",
        "roc_auc[\"macro\"] = auc(fpr[\"macro\"], tpr[\"macro\"])\n",
        "\n",
        "# Plot all ROC curves\n",
        "plt.figure()\n",
        "plt.plot(fpr[\"micro\"], tpr[\"micro\"],\n",
        "         label='micro-average ROC curve (area = {0:0.2f})'\n",
        "               ''.format(roc_auc[\"micro\"]),\n",
        "         color='deeppink', linestyle=':', linewidth=4)\n",
        "\n",
        "plt.plot(fpr[\"macro\"], tpr[\"macro\"],\n",
        "         label='macro-average ROC curve (area = {0:0.2f})'\n",
        "               ''.format(roc_auc[\"macro\"]),\n",
        "         color='navy', linestyle=':', linewidth=4)\n",
        "\n",
        "colors = cycle(['aqua', 'darkorange', 'cornflowerblue'])\n",
        "for i, color in zip(range(n_classes), colors):\n",
        "    plt.plot(fpr[i], tpr[i], color=color, lw=lw,\n",
        "             label='ROC curve of class {0} (area = {1:0.2f})'\n",
        "             ''.format(i, roc_auc[i]))\n",
        "\n",
        "plt.plot([0, 1], [0, 1], 'k--', lw=lw)\n",
        "plt.xlim([0.0, 1.0])\n",
        "plt.ylim([0.0, 1.05])\n",
        "plt.xlabel('False Positive Rate')\n",
        "plt.ylabel('True Positive Rate')\n",
        "plt.title('Some extension of Receiver operating characteristic to multi-class')\n",
        "plt.legend(loc=\"lower right\")\n",
        "plt.show()"
      ],
      "execution_count": 0,
      "outputs": []
    },
    {
      "cell_type": "code",
      "metadata": {
        "id": "uIGd6ZdMJVkD",
        "colab_type": "code",
        "colab": {}
      },
      "source": [
        "from sklearn.metrics import roc_curve\n",
        "from sklearn.metrics import roc_auc_score\n",
        "lr_probs = model1.predict_proba(x_test)\n",
        "# keep probabilities for the positive outcome only\n",
        "lr_probs = lr_probs[:, 1]"
      ],
      "execution_count": 0,
      "outputs": []
    },
    {
      "cell_type": "code",
      "metadata": {
        "id": "ziIvttCn5Xxp",
        "colab_type": "code",
        "outputId": "5aa5cc94-5670-478d-8dcd-3033529a6522",
        "colab": {
          "base_uri": "https://localhost:8080/",
          "height": 90
        }
      },
      "source": [
        "def roc_auc_score_multiclass(actual_class, pred_class, average = \"macro\"):\n",
        "\n",
        "  #creating a set of all the unique classes using the actual class list\n",
        "  unique_class = set(actual_class)\n",
        "  roc_auc_dict = {}\n",
        "  for per_class in unique_class:\n",
        "    #creating a list of all the classes except the current class \n",
        "    other_class = [x for x in unique_class if x != per_class]\n",
        "\n",
        "    #marking the current class as 1 and all other classes as 0\n",
        "    new_actual_class = [0 if x in other_class else 1 for x in actual_class]\n",
        "    new_pred_class = [0 if x in other_class else 1 for x in pred_class]\n",
        "\n",
        "    #using the sklearn metrics method to calculate the roc_auc_score\n",
        "    roc_auc = roc_auc_score(new_actual_class, new_pred_class, average = average)\n",
        "    roc_auc_dict[per_class] = roc_auc\n",
        "\n",
        "  return roc_auc_dict\n",
        "\n",
        "print(\"\\nLogistic Regression\")\n",
        "# assuming your already have a list of actual_class and predicted_class from the logistic regression classifier\n",
        "lr_roc_auc_multiclass = roc_auc_score_multiclass(y_test, y_pred)\n",
        "print(lr_roc_auc_multiclass)"
      ],
      "execution_count": 0,
      "outputs": [
        {
          "output_type": "stream",
          "text": [
            "\n",
            "Logistic Regression\n",
            "{'B-': 0.7499999999999999, 'B+': 0.5786242603550296, 'BBB': 0.6543347302252488, 'BB-': 0.484290089912064, 'B': 0.6131410002377744, 'BBB+': 0.9129793510324484, 'BB': 0.5163376446562288, 'BB+': 0.4878482972136223, 'D': 0.5619009979251062, 'BBB-': 0.553778080326753}\n"
          ],
          "name": "stdout"
        }
      ]
    },
    {
      "cell_type": "code",
      "metadata": {
        "id": "2FWehDas2Kbg",
        "colab_type": "code",
        "outputId": "9b4747c5-66e4-4f58-c18e-3b1dc0fdbac2",
        "colab": {
          "base_uri": "https://localhost:8080/",
          "height": 294
        }
      },
      "source": [
        "# import numpy as np\n",
        "\n",
        "# y_predict_proba = model2.predict_proba(x_test)\n",
        "\n",
        "# # Compute ROC curve and ROC AUC for each class\n",
        "# n_classes = 10\n",
        "# fpr = dict()\n",
        "# tpr = dict()\n",
        "# roc_auc = dict()\n",
        "# all_y_test_i = np.array([])\n",
        "# all_y_predict_proba = np.array([])\n",
        "# for i in range(n_classes):\n",
        "#     y_test_i = map(lambda x: 1 if x == i else 0, y_test)\n",
        "#     all_y_test_i = np.concatenate([all_y_test_i, y_test_i])\n",
        "#     all_y_predict_proba = np.concatenate([all_y_predict_proba, y_predict_proba[:, i]])\n",
        "#     fpr[i], tpr[i], _ = roc_curve(y_test_i, y_predict_proba[:, i])\n",
        "#     roc_auc[i] = auc(fpr[i], tpr[i])\n"
      ],
      "execution_count": 0,
      "outputs": [
        {
          "output_type": "error",
          "ename": "ValueError",
          "evalue": "ignored",
          "traceback": [
            "\u001b[0;31m---------------------------------------------------------------------------\u001b[0m",
            "\u001b[0;31mValueError\u001b[0m                                Traceback (most recent call last)",
            "\u001b[0;32m<ipython-input-131-c6c0fd27cf50>\u001b[0m in \u001b[0;36m<module>\u001b[0;34m()\u001b[0m\n\u001b[1;32m     12\u001b[0m \u001b[0;32mfor\u001b[0m \u001b[0mi\u001b[0m \u001b[0;32min\u001b[0m \u001b[0mrange\u001b[0m\u001b[0;34m(\u001b[0m\u001b[0mn_classes\u001b[0m\u001b[0;34m)\u001b[0m\u001b[0;34m:\u001b[0m\u001b[0;34m\u001b[0m\u001b[0;34m\u001b[0m\u001b[0m\n\u001b[1;32m     13\u001b[0m     \u001b[0my_test_i\u001b[0m \u001b[0;34m=\u001b[0m \u001b[0mmap\u001b[0m\u001b[0;34m(\u001b[0m\u001b[0;32mlambda\u001b[0m \u001b[0mx\u001b[0m\u001b[0;34m:\u001b[0m \u001b[0;36m1\u001b[0m \u001b[0;32mif\u001b[0m \u001b[0mx\u001b[0m \u001b[0;34m==\u001b[0m \u001b[0mi\u001b[0m \u001b[0;32melse\u001b[0m \u001b[0;36m0\u001b[0m\u001b[0;34m,\u001b[0m \u001b[0my_test\u001b[0m\u001b[0;34m)\u001b[0m\u001b[0;34m\u001b[0m\u001b[0;34m\u001b[0m\u001b[0m\n\u001b[0;32m---> 14\u001b[0;31m     \u001b[0mall_y_test_i\u001b[0m \u001b[0;34m=\u001b[0m \u001b[0mnp\u001b[0m\u001b[0;34m.\u001b[0m\u001b[0mconcatenate\u001b[0m\u001b[0;34m(\u001b[0m\u001b[0;34m[\u001b[0m\u001b[0mall_y_test_i\u001b[0m\u001b[0;34m,\u001b[0m \u001b[0my_test_i\u001b[0m\u001b[0;34m]\u001b[0m\u001b[0;34m)\u001b[0m\u001b[0;34m\u001b[0m\u001b[0;34m\u001b[0m\u001b[0m\n\u001b[0m\u001b[1;32m     15\u001b[0m     \u001b[0mall_y_predict_proba\u001b[0m \u001b[0;34m=\u001b[0m \u001b[0mnp\u001b[0m\u001b[0;34m.\u001b[0m\u001b[0mconcatenate\u001b[0m\u001b[0;34m(\u001b[0m\u001b[0;34m[\u001b[0m\u001b[0mall_y_predict_proba\u001b[0m\u001b[0;34m,\u001b[0m \u001b[0my_predict_proba\u001b[0m\u001b[0;34m[\u001b[0m\u001b[0;34m:\u001b[0m\u001b[0;34m,\u001b[0m \u001b[0mi\u001b[0m\u001b[0;34m]\u001b[0m\u001b[0;34m]\u001b[0m\u001b[0;34m)\u001b[0m\u001b[0;34m\u001b[0m\u001b[0;34m\u001b[0m\u001b[0m\n\u001b[1;32m     16\u001b[0m     \u001b[0mfpr\u001b[0m\u001b[0;34m[\u001b[0m\u001b[0mi\u001b[0m\u001b[0;34m]\u001b[0m\u001b[0;34m,\u001b[0m \u001b[0mtpr\u001b[0m\u001b[0;34m[\u001b[0m\u001b[0mi\u001b[0m\u001b[0;34m]\u001b[0m\u001b[0;34m,\u001b[0m \u001b[0m_\u001b[0m \u001b[0;34m=\u001b[0m \u001b[0mroc_curve\u001b[0m\u001b[0;34m(\u001b[0m\u001b[0my_test_i\u001b[0m\u001b[0;34m,\u001b[0m \u001b[0my_predict_proba\u001b[0m\u001b[0;34m[\u001b[0m\u001b[0;34m:\u001b[0m\u001b[0;34m,\u001b[0m \u001b[0mi\u001b[0m\u001b[0;34m]\u001b[0m\u001b[0;34m)\u001b[0m\u001b[0;34m\u001b[0m\u001b[0;34m\u001b[0m\u001b[0m\n",
            "\u001b[0;32m<__array_function__ internals>\u001b[0m in \u001b[0;36mconcatenate\u001b[0;34m(*args, **kwargs)\u001b[0m\n",
            "\u001b[0;31mValueError\u001b[0m: all the input arrays must have same number of dimensions, but the array at index 0 has 1 dimension(s) and the array at index 1 has 0 dimension(s)"
          ]
        }
      ]
    },
    {
      "cell_type": "code",
      "metadata": {
        "id": "iEdxo47sSNOx",
        "colab_type": "code",
        "colab": {}
      },
      "source": [
        "# Compute micro-average ROC curve and ROC area\n",
        "#fpr[\"average\"], tpr[\"average\"], _ = roc_curve(all_y_test_i, all_y_predict_proba)\n",
        "#roc_auc[\"average\"] = auc(fpr[\"average\"], tpr[\"average\"])\n",
        "\n",
        "\n",
        "# Plot average ROC Curve\n",
        "plt.figure()\n",
        "plt.plot(fpr[\"average\"], tpr[\"average\"],\n",
        "         label='Average ROC curve (area = {0:0.2f})'\n",
        "               ''.format(roc_auc[\"average\"]),\n",
        "         color='deeppink', linestyle=':', linewidth=4)\n",
        "\n",
        "# Plot each individual ROC curve\n",
        "for i in range(n_classes):\n",
        "    plt.plot(fpr[i], tpr[i], lw=2,\n",
        "             label='ROC curve of class {0} (area = {1:0.2f})'\n",
        "             ''.format(i, roc_auc[i]))\n",
        "\n",
        "plt.plot([0, 1], [0, 1], 'k--', lw=2)\n",
        "plt.xlim([0.0, 1.0])\n",
        "plt.ylim([0.0, 1.05])\n",
        "plt.xlabel('False Positive Rate')\n",
        "plt.ylabel('True Positive Rate')\n",
        "plt.title('Some extension of Receiver operating characteristic to multi-class')\n",
        "plt.legend(loc=\"lower right\")\n",
        "plt.show()"
      ],
      "execution_count": 0,
      "outputs": []
    },
    {
      "cell_type": "code",
      "metadata": {
        "id": "5nNf3IOueuqG",
        "colab_type": "code",
        "colab": {}
      },
      "source": [
        ""
      ],
      "execution_count": 0,
      "outputs": []
    },
    {
      "cell_type": "code",
      "metadata": {
        "id": "JvUwupZFgaUQ",
        "colab_type": "code",
        "colab": {}
      },
      "source": [
        ""
      ],
      "execution_count": 0,
      "outputs": []
    },
    {
      "cell_type": "code",
      "metadata": {
        "id": "y-S4xtULgnZt",
        "colab_type": "code",
        "colab": {}
      },
      "source": [
        "  "
      ],
      "execution_count": 0,
      "outputs": []
    },
    {
      "cell_type": "code",
      "metadata": {
        "id": "swUcuqWpiBlD",
        "colab_type": "code",
        "colab": {}
      },
      "source": [
        ""
      ],
      "execution_count": 0,
      "outputs": []
    },
    {
      "cell_type": "code",
      "metadata": {
        "id": "1GLmbzEmHSou",
        "colab_type": "code",
        "colab": {}
      },
      "source": [
        ""
      ],
      "execution_count": 0,
      "outputs": []
    },
    {
      "cell_type": "code",
      "metadata": {
        "id": "oxIrniQFcXPk",
        "colab_type": "code",
        "colab": {}
      },
      "source": [
        "from sklearn import svm\n",
        "from sklearn.ensemble import RandomForestClassifier\n",
        "from sklearn.linear_model import LogisticRegression\n",
        "model_params = {\n",
        "    'svm':{\n",
        "        'model': SVC(),\n",
        "        'params':{'C':[0.1,1,2,5,10,20,25,30,50,100],\n",
        "                  'gamma':[1e-1,1e-2,1e-3],\n",
        "                  'kernel':['rbf','linear']\n",
        "                  }\n",
        "          },\n",
        "    'random_forest':{\n",
        "        'model':RandomForestClassifier(),\n",
        "        'params':{ \n",
        "            'n_estimators':[100,200,300,400,500],\n",
        "            'criterion':['entropy','gini']\n",
        "        }\n",
        "    },\n",
        "    'logistic_regression':{\n",
        "        'model': LogisticRegression(solver='lbfgs',multi_class='multinomial',penalty = 'l2'),\n",
        "        'params':{'C':[1,5,10]\n",
        "                  }\n",
        "    },\n",
        "    'Gradient_boosting':{\n",
        "        'model': GradientBoostingClassifier(n_estimators=50, max_depth=2, random_state=23),\n",
        "        'params':{'learning_rate':[0.05, 0.075, 0.1, 0.25, 0.5, 0.75, 1]\n",
        "                  }\n",
        "    },\n",
        "    'xgboost':{\n",
        "        'model': XGBClassifier(random_state=23),\n",
        "        'params':{\n",
        "                  }\n",
        "    }\n",
        "} "
      ],
      "execution_count": 0,
      "outputs": []
    },
    {
      "cell_type": "code",
      "metadata": {
        "id": "3MyNnuj8pMVQ",
        "colab_type": "code",
        "outputId": "e3b5c8d7-7b3f-4e81-96ab-033f456f9fda",
        "colab": {
          "base_uri": "https://localhost:8080/",
          "height": 204
        }
      },
      "source": [
        "scores=[]\n",
        "for model_name,mp in model_params.items():\n",
        "  clf = GridSearchCV(mp['model'],mp['params'],cv=5,return_train_score=False)\n",
        "  clf.fit(x_train,y_train)\n",
        "  scores.append({\n",
        "      'model':model_name,\n",
        "      'best_score':clf.best_score_,\n",
        "      'best_params':clf.best_params_\n",
        "  }) \n",
        "df=pd.DataFrame(scores,columns=['model','best_score','best_params'])\n",
        "df"
      ],
      "execution_count": 74,
      "outputs": [
        {
          "output_type": "execute_result",
          "data": {
            "text/html": [
              "<div>\n",
              "<style scoped>\n",
              "    .dataframe tbody tr th:only-of-type {\n",
              "        vertical-align: middle;\n",
              "    }\n",
              "\n",
              "    .dataframe tbody tr th {\n",
              "        vertical-align: top;\n",
              "    }\n",
              "\n",
              "    .dataframe thead th {\n",
              "        text-align: right;\n",
              "    }\n",
              "</style>\n",
              "<table border=\"1\" class=\"dataframe\">\n",
              "  <thead>\n",
              "    <tr style=\"text-align: right;\">\n",
              "      <th></th>\n",
              "      <th>model</th>\n",
              "      <th>best_score</th>\n",
              "      <th>best_params</th>\n",
              "    </tr>\n",
              "  </thead>\n",
              "  <tbody>\n",
              "    <tr>\n",
              "      <th>0</th>\n",
              "      <td>svm</td>\n",
              "      <td>0.328704</td>\n",
              "      <td>{'C': 100, 'gamma': 0.1, 'kernel': 'linear'}</td>\n",
              "    </tr>\n",
              "    <tr>\n",
              "      <th>1</th>\n",
              "      <td>random_forest</td>\n",
              "      <td>0.710317</td>\n",
              "      <td>{'criterion': 'gini', 'n_estimators': 400}</td>\n",
              "    </tr>\n",
              "    <tr>\n",
              "      <th>2</th>\n",
              "      <td>logistic_regression</td>\n",
              "      <td>0.262566</td>\n",
              "      <td>{'C': 10}</td>\n",
              "    </tr>\n",
              "    <tr>\n",
              "      <th>3</th>\n",
              "      <td>Gradient_boosting</td>\n",
              "      <td>0.622354</td>\n",
              "      <td>{'learning_rate': 0.25}</td>\n",
              "    </tr>\n",
              "    <tr>\n",
              "      <th>4</th>\n",
              "      <td>xgboost</td>\n",
              "      <td>0.638889</td>\n",
              "      <td>{}</td>\n",
              "    </tr>\n",
              "  </tbody>\n",
              "</table>\n",
              "</div>"
            ],
            "text/plain": [
              "                 model  ...                                   best_params\n",
              "0                  svm  ...  {'C': 100, 'gamma': 0.1, 'kernel': 'linear'}\n",
              "1        random_forest  ...    {'criterion': 'gini', 'n_estimators': 400}\n",
              "2  logistic_regression  ...                                     {'C': 10}\n",
              "3    Gradient_boosting  ...                       {'learning_rate': 0.25}\n",
              "4              xgboost  ...                                            {}\n",
              "\n",
              "[5 rows x 3 columns]"
            ]
          },
          "metadata": {
            "tags": []
          },
          "execution_count": 74
        }
      ]
    },
    {
      "cell_type": "code",
      "metadata": {
        "id": "c0xU6iPkrDvS",
        "colab_type": "code",
        "colab": {}
      },
      "source": [
        "\n"
      ],
      "execution_count": 0,
      "outputs": []
    }
  ]
}